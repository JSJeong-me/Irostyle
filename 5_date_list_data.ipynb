{
  "cells": [
    {
      "cell_type": "markdown",
      "metadata": {
        "id": "view-in-github",
        "colab_type": "text"
      },
      "source": [
        "<a href=\"https://colab.research.google.com/github/JSJeong-me/Irostyle/blob/main/5_date_list_data.ipynb\" target=\"_parent\"><img src=\"https://colab.research.google.com/assets/colab-badge.svg\" alt=\"Open In Colab\"/></a>"
      ]
    },
    {
      "cell_type": "code",
      "execution_count": 1,
      "id": "81140c9d-a83f-4d5e-8e21-d23a56a146aa",
      "metadata": {
        "id": "81140c9d-a83f-4d5e-8e21-d23a56a146aa"
      },
      "outputs": [],
      "source": [
        "#!pip install -U pandas-profiling==3.1.0"
      ]
    },
    {
      "cell_type": "code",
      "execution_count": 2,
      "id": "319e93c8-65ae-41a5-b417-976599390be7",
      "metadata": {
        "id": "319e93c8-65ae-41a5-b417-976599390be7"
      },
      "outputs": [],
      "source": [
        "#import pandas_profiling"
      ]
    },
    {
      "cell_type": "code",
      "execution_count": 3,
      "id": "009124cc-8a06-476d-bf63-06a5c05a9f84",
      "metadata": {
        "id": "009124cc-8a06-476d-bf63-06a5c05a9f84"
      },
      "outputs": [],
      "source": [
        "import os"
      ]
    },
    {
      "cell_type": "code",
      "execution_count": 4,
      "id": "1700ceaf-a349-4a8f-b995-e6e191649c13",
      "metadata": {
        "id": "1700ceaf-a349-4a8f-b995-e6e191649c13"
      },
      "outputs": [],
      "source": [
        "import pandas as pd"
      ]
    },
    {
      "cell_type": "code",
      "execution_count": 5,
      "id": "0e2b9b83-7da7-49d1-8388-e949b8ee45b2",
      "metadata": {
        "id": "0e2b9b83-7da7-49d1-8388-e949b8ee45b2"
      },
      "outputs": [],
      "source": [
        "data = pd.read_excel('feets-old.xlsx', header=[0, 1],  )"
      ]
    },
    {
      "cell_type": "code",
      "source": [
        "# data.columns"
      ],
      "metadata": {
        "id": "CGUyZDFEi355"
      },
      "id": "CGUyZDFEi355",
      "execution_count": 6,
      "outputs": []
    },
    {
      "cell_type": "code",
      "source": [
        "# data.iloc[:, 0]"
      ],
      "metadata": {
        "id": "qbQXmMSoi32k"
      },
      "id": "qbQXmMSoi32k",
      "execution_count": 7,
      "outputs": []
    },
    {
      "cell_type": "code",
      "source": [
        "entries = data.iloc[:, 0].tolist()"
      ],
      "metadata": {
        "id": "J1tbILTAi3y2"
      },
      "id": "J1tbILTAi3y2",
      "execution_count": 8,
      "outputs": []
    },
    {
      "cell_type": "code",
      "source": [
        "len(entries)"
      ],
      "metadata": {
        "id": "OBiuNTFDi3vj",
        "outputId": "419980b6-6bbb-4786-9035-99020e60f397",
        "colab": {
          "base_uri": "https://localhost:8080/"
        }
      },
      "id": "OBiuNTFDi3vj",
      "execution_count": 9,
      "outputs": [
        {
          "output_type": "execute_result",
          "data": {
            "text/plain": [
              "2823"
            ]
          },
          "metadata": {},
          "execution_count": 9
        }
      ]
    },
    {
      "cell_type": "code",
      "source": [
        "new_str = []"
      ],
      "metadata": {
        "id": "zY8hcaRHj8RU"
      },
      "id": "zY8hcaRHj8RU",
      "execution_count": 10,
      "outputs": []
    },
    {
      "cell_type": "code",
      "source": [
        "for date in entries:\n",
        "  tmp = date\n",
        "  # print(tmp[14:26])\n",
        "  new_str.append(tmp[14:26])"
      ],
      "metadata": {
        "id": "HgfkEDR0i3sn"
      },
      "id": "HgfkEDR0i3sn",
      "execution_count": 11,
      "outputs": []
    },
    {
      "cell_type": "code",
      "source": [
        ""
      ],
      "metadata": {
        "id": "-8DQ9ZhhpmiK"
      },
      "id": "-8DQ9ZhhpmiK",
      "execution_count": 19,
      "outputs": []
    },
    {
      "cell_type": "code",
      "source": [
        ""
      ],
      "metadata": {
        "id": "yltoIsg9psAv"
      },
      "id": "yltoIsg9psAv",
      "execution_count": null,
      "outputs": []
    },
    {
      "cell_type": "code",
      "source": [
        "new_str.sort()"
      ],
      "metadata": {
        "id": "9qHeJnyFi3pD"
      },
      "id": "9qHeJnyFi3pD",
      "execution_count": 12,
      "outputs": []
    },
    {
      "cell_type": "code",
      "source": [
        "len(new_str)"
      ],
      "metadata": {
        "id": "_ICelye7i3lt",
        "outputId": "a7feb361-bde6-4a77-ac48-dc892ea03d5e",
        "colab": {
          "base_uri": "https://localhost:8080/"
        }
      },
      "id": "_ICelye7i3lt",
      "execution_count": 13,
      "outputs": [
        {
          "output_type": "execute_result",
          "data": {
            "text/plain": [
              "2823"
            ]
          },
          "metadata": {},
          "execution_count": 13
        }
      ]
    },
    {
      "cell_type": "code",
      "source": [
        "new_str = new_str[17:-26]"
      ],
      "metadata": {
        "id": "yn6g_5jtmaG-"
      },
      "id": "yn6g_5jtmaG-",
      "execution_count": 14,
      "outputs": []
    },
    {
      "cell_type": "code",
      "source": [
        "date_str = []"
      ],
      "metadata": {
        "id": "rKcFQOgipzui"
      },
      "id": "rKcFQOgipzui",
      "execution_count": 20,
      "outputs": []
    },
    {
      "cell_type": "code",
      "source": [
        "for date in new_str:\n",
        "  tmp = '{2}/{1}/{0} {3}:{4}:{5}'.format(new_str[14:16], new_str[16:18], new_str[18:20], new_str[20:22], new_str[22:24], new_str[24:26])\n",
        "  # print(tmp[14:26])\n",
        "  date_str.append(tmp)"
      ],
      "metadata": {
        "id": "LeF2Au6rpvub"
      },
      "id": "LeF2Au6rpvub",
      "execution_count": 24,
      "outputs": []
    },
    {
      "cell_type": "code",
      "source": [
        "# new_str[-26:-1]"
      ],
      "metadata": {
        "id": "6AXQatSwnPWb"
      },
      "id": "6AXQatSwnPWb",
      "execution_count": 15,
      "outputs": []
    },
    {
      "cell_type": "code",
      "source": [
        "df_date = pd.DataFrame(date_str)"
      ],
      "metadata": {
        "id": "csnJWN3zi3c_"
      },
      "id": "csnJWN3zi3c_",
      "execution_count": 25,
      "outputs": []
    },
    {
      "cell_type": "code",
      "source": [
        "df_date.tail()"
      ],
      "metadata": {
        "id": "Q9Hjjodhi3Zr",
        "outputId": "d3e7fa40-69ac-4373-b9f8-9821e6c69338",
        "colab": {
          "base_uri": "https://localhost:8080/",
          "height": 206
        }
      },
      "id": "Q9Hjjodhi3Zr",
      "execution_count": 26,
      "outputs": [
        {
          "output_type": "execute_result",
          "data": {
            "text/plain": [
              "                                                      0\n",
              "2775  ['200201122446', '200201151900']/['20013017334...\n",
              "2776  ['200201122446', '200201151900']/['20013017334...\n",
              "2777  ['200201122446', '200201151900']/['20013017334...\n",
              "2778  ['200201122446', '200201151900']/['20013017334...\n",
              "2779  ['200201122446', '200201151900']/['20013017334..."
            ],
            "text/html": [
              "\n",
              "  <div id=\"df-1c5ce853-afc6-4bbe-84fc-c68152df6c01\">\n",
              "    <div class=\"colab-df-container\">\n",
              "      <div>\n",
              "<style scoped>\n",
              "    .dataframe tbody tr th:only-of-type {\n",
              "        vertical-align: middle;\n",
              "    }\n",
              "\n",
              "    .dataframe tbody tr th {\n",
              "        vertical-align: top;\n",
              "    }\n",
              "\n",
              "    .dataframe thead th {\n",
              "        text-align: right;\n",
              "    }\n",
              "</style>\n",
              "<table border=\"1\" class=\"dataframe\">\n",
              "  <thead>\n",
              "    <tr style=\"text-align: right;\">\n",
              "      <th></th>\n",
              "      <th>0</th>\n",
              "    </tr>\n",
              "  </thead>\n",
              "  <tbody>\n",
              "    <tr>\n",
              "      <th>2775</th>\n",
              "      <td>['200201122446', '200201151900']/['20013017334...</td>\n",
              "    </tr>\n",
              "    <tr>\n",
              "      <th>2776</th>\n",
              "      <td>['200201122446', '200201151900']/['20013017334...</td>\n",
              "    </tr>\n",
              "    <tr>\n",
              "      <th>2777</th>\n",
              "      <td>['200201122446', '200201151900']/['20013017334...</td>\n",
              "    </tr>\n",
              "    <tr>\n",
              "      <th>2778</th>\n",
              "      <td>['200201122446', '200201151900']/['20013017334...</td>\n",
              "    </tr>\n",
              "    <tr>\n",
              "      <th>2779</th>\n",
              "      <td>['200201122446', '200201151900']/['20013017334...</td>\n",
              "    </tr>\n",
              "  </tbody>\n",
              "</table>\n",
              "</div>\n",
              "      <button class=\"colab-df-convert\" onclick=\"convertToInteractive('df-1c5ce853-afc6-4bbe-84fc-c68152df6c01')\"\n",
              "              title=\"Convert this dataframe to an interactive table.\"\n",
              "              style=\"display:none;\">\n",
              "        \n",
              "  <svg xmlns=\"http://www.w3.org/2000/svg\" height=\"24px\"viewBox=\"0 0 24 24\"\n",
              "       width=\"24px\">\n",
              "    <path d=\"M0 0h24v24H0V0z\" fill=\"none\"/>\n",
              "    <path d=\"M18.56 5.44l.94 2.06.94-2.06 2.06-.94-2.06-.94-.94-2.06-.94 2.06-2.06.94zm-11 1L8.5 8.5l.94-2.06 2.06-.94-2.06-.94L8.5 2.5l-.94 2.06-2.06.94zm10 10l.94 2.06.94-2.06 2.06-.94-2.06-.94-.94-2.06-.94 2.06-2.06.94z\"/><path d=\"M17.41 7.96l-1.37-1.37c-.4-.4-.92-.59-1.43-.59-.52 0-1.04.2-1.43.59L10.3 9.45l-7.72 7.72c-.78.78-.78 2.05 0 2.83L4 21.41c.39.39.9.59 1.41.59.51 0 1.02-.2 1.41-.59l7.78-7.78 2.81-2.81c.8-.78.8-2.07 0-2.86zM5.41 20L4 18.59l7.72-7.72 1.47 1.35L5.41 20z\"/>\n",
              "  </svg>\n",
              "      </button>\n",
              "      \n",
              "  <style>\n",
              "    .colab-df-container {\n",
              "      display:flex;\n",
              "      flex-wrap:wrap;\n",
              "      gap: 12px;\n",
              "    }\n",
              "\n",
              "    .colab-df-convert {\n",
              "      background-color: #E8F0FE;\n",
              "      border: none;\n",
              "      border-radius: 50%;\n",
              "      cursor: pointer;\n",
              "      display: none;\n",
              "      fill: #1967D2;\n",
              "      height: 32px;\n",
              "      padding: 0 0 0 0;\n",
              "      width: 32px;\n",
              "    }\n",
              "\n",
              "    .colab-df-convert:hover {\n",
              "      background-color: #E2EBFA;\n",
              "      box-shadow: 0px 1px 2px rgba(60, 64, 67, 0.3), 0px 1px 3px 1px rgba(60, 64, 67, 0.15);\n",
              "      fill: #174EA6;\n",
              "    }\n",
              "\n",
              "    [theme=dark] .colab-df-convert {\n",
              "      background-color: #3B4455;\n",
              "      fill: #D2E3FC;\n",
              "    }\n",
              "\n",
              "    [theme=dark] .colab-df-convert:hover {\n",
              "      background-color: #434B5C;\n",
              "      box-shadow: 0px 1px 3px 1px rgba(0, 0, 0, 0.15);\n",
              "      filter: drop-shadow(0px 1px 2px rgba(0, 0, 0, 0.3));\n",
              "      fill: #FFFFFF;\n",
              "    }\n",
              "  </style>\n",
              "\n",
              "      <script>\n",
              "        const buttonEl =\n",
              "          document.querySelector('#df-1c5ce853-afc6-4bbe-84fc-c68152df6c01 button.colab-df-convert');\n",
              "        buttonEl.style.display =\n",
              "          google.colab.kernel.accessAllowed ? 'block' : 'none';\n",
              "\n",
              "        async function convertToInteractive(key) {\n",
              "          const element = document.querySelector('#df-1c5ce853-afc6-4bbe-84fc-c68152df6c01');\n",
              "          const dataTable =\n",
              "            await google.colab.kernel.invokeFunction('convertToInteractive',\n",
              "                                                     [key], {});\n",
              "          if (!dataTable) return;\n",
              "\n",
              "          const docLinkHtml = 'Like what you see? Visit the ' +\n",
              "            '<a target=\"_blank\" href=https://colab.research.google.com/notebooks/data_table.ipynb>data table notebook</a>'\n",
              "            + ' to learn more about interactive tables.';\n",
              "          element.innerHTML = '';\n",
              "          dataTable['output_type'] = 'display_data';\n",
              "          await google.colab.output.renderOutput(dataTable, element);\n",
              "          const docLink = document.createElement('div');\n",
              "          docLink.innerHTML = docLinkHtml;\n",
              "          element.appendChild(docLink);\n",
              "        }\n",
              "      </script>\n",
              "    </div>\n",
              "  </div>\n",
              "  "
            ]
          },
          "metadata": {},
          "execution_count": 26
        }
      ]
    },
    {
      "cell_type": "code",
      "source": [
        "df_date.to_excel('foots.xlsx')"
      ],
      "metadata": {
        "id": "wdV5PjCri3V7"
      },
      "id": "wdV5PjCri3V7",
      "execution_count": 18,
      "outputs": []
    },
    {
      "cell_type": "code",
      "source": [
        ""
      ],
      "metadata": {
        "id": "Zp-5Rfpj1mOs"
      },
      "id": "Zp-5Rfpj1mOs",
      "execution_count": 18,
      "outputs": []
    },
    {
      "cell_type": "code",
      "source": [
        ""
      ],
      "metadata": {
        "id": "6XRPC3He1mLU"
      },
      "id": "6XRPC3He1mLU",
      "execution_count": 18,
      "outputs": []
    },
    {
      "cell_type": "code",
      "execution_count": 18,
      "id": "7d36d7a9-249f-4ea3-aaa9-02c0dd26e21e",
      "metadata": {
        "id": "7d36d7a9-249f-4ea3-aaa9-02c0dd26e21e"
      },
      "outputs": [],
      "source": [
        ""
      ]
    }
  ],
  "metadata": {
    "kernelspec": {
      "display_name": "Python 3 (ipykernel)",
      "language": "python",
      "name": "python3"
    },
    "language_info": {
      "codemirror_mode": {
        "name": "ipython",
        "version": 3
      },
      "file_extension": ".py",
      "mimetype": "text/x-python",
      "name": "python",
      "nbconvert_exporter": "python",
      "pygments_lexer": "ipython3",
      "version": "3.9.7"
    },
    "colab": {
      "name": "1-read_data.ipynb",
      "provenance": [],
      "include_colab_link": true
    }
  },
  "nbformat": 4,
  "nbformat_minor": 5
}