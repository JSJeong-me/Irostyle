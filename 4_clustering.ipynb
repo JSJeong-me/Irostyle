{
  "nbformat": 4,
  "nbformat_minor": 0,
  "metadata": {
    "colab": {
      "name": "Untitled32.ipynb",
      "provenance": [],
      "authorship_tag": "ABX9TyPz6bXTB9nQPFiu0GKmpTKM",
      "include_colab_link": true
    },
    "kernelspec": {
      "name": "python3",
      "display_name": "Python 3"
    },
    "language_info": {
      "name": "python"
    }
  },
  "cells": [
    {
      "cell_type": "markdown",
      "metadata": {
        "id": "view-in-github",
        "colab_type": "text"
      },
      "source": [
        "<a href=\"https://colab.research.google.com/github/JSJeong-me/Irostyle/blob/main/4_clustering.ipynb\" target=\"_parent\"><img src=\"https://colab.research.google.com/assets/colab-badge.svg\" alt=\"Open In Colab\"/></a>"
      ]
    },
    {
      "cell_type": "code",
      "execution_count": null,
      "metadata": {
        "id": "vh7wO0qmhNL8"
      },
      "outputs": [],
      "source": [
        ""
      ]
    },
    {
      "cell_type": "code",
      "source": [
        "import pandas as pd\n",
        "import numpy as np\n",
        "import matplotlib.pyplot as plt\n",
        "import seaborn as sns"
      ],
      "metadata": {
        "id": "RHNp4oV8hPEy"
      },
      "execution_count": 1,
      "outputs": []
    },
    {
      "cell_type": "code",
      "source": [
        "data = pd.read_excel('feets-old.xlsx', skiprows=0, header=1 )"
      ],
      "metadata": {
        "id": "sO7v0enKhTdL"
      },
      "execution_count": 2,
      "outputs": []
    },
    {
      "cell_type": "code",
      "source": [
        "data.drop('Unnamed: 0', axis=1,inplace=True)"
      ],
      "metadata": {
        "id": "dj2QCUhGhWu6"
      },
      "execution_count": 3,
      "outputs": []
    },
    {
      "cell_type": "code",
      "source": [
        "foot_L = data.iloc[:, 0:24]"
      ],
      "metadata": {
        "id": "D3PTokr9haNz"
      },
      "execution_count": 4,
      "outputs": []
    },
    {
      "cell_type": "code",
      "source": [
        "from  sklearn.preprocessing import  MinMaxScaler\n",
        "\n",
        "scaler = MinMaxScaler()\n",
        "data_scaled = scaler.fit_transform(data)"
      ],
      "metadata": {
        "id": "ffxfoaHTh9pb"
      },
      "execution_count": 5,
      "outputs": []
    },
    {
      "cell_type": "code",
      "source": [
        "from sklearn.cluster  import  KMeans\n",
        "\n",
        "k = 6\n",
        "\n",
        "model = KMeans(n_clusters = k, random_state =10)\n",
        "\n",
        "model.fit(data_scaled)\n",
        "\n",
        "data['cluster'] = model.fit_predict(data_scaled)"
      ],
      "metadata": {
        "id": "_sFTipsXhdA1"
      },
      "execution_count": 6,
      "outputs": []
    },
    {
      "cell_type": "code",
      "source": [
        "import matplotlib.pyplot as plt\n",
        "\n",
        "plt.figure(figsize= (8,8))"
      ],
      "metadata": {
        "colab": {
          "base_uri": "https://localhost:8080/",
          "height": 54
        },
        "id": "4LpBUBC-iwor",
        "outputId": "e2778a0b-1298-4937-804e-05faa7bf8cce"
      },
      "execution_count": 7,
      "outputs": [
        {
          "output_type": "execute_result",
          "data": {
            "text/plain": [
              "<Figure size 576x576 with 0 Axes>"
            ]
          },
          "metadata": {},
          "execution_count": 7
        },
        {
          "output_type": "display_data",
          "data": {
            "text/plain": [
              "<Figure size 576x576 with 0 Axes>"
            ]
          },
          "metadata": {}
        }
      ]
    },
    {
      "cell_type": "code",
      "source": [
        "data.columns"
      ],
      "metadata": {
        "colab": {
          "base_uri": "https://localhost:8080/"
        },
        "id": "NuhveKh7m0dC",
        "outputId": "53bdaa54-834f-425e-b6a3-7efbcc806b42"
      },
      "execution_count": 8,
      "outputs": [
        {
          "output_type": "execute_result",
          "data": {
            "text/plain": [
              "Index(['foot_length', 'foot_width', 'ball_distance', 'ball_height',\n",
              "       'ball_girth', 'instep_height', 'instep_girth', 'big_toe_height',\n",
              "       'heel_height', 'heel_width', 'inner_ankle_bone_height',\n",
              "       'outer_ankle_bone_height', 'ankle_height', 'ankle_hor_girth',\n",
              "       'ankle_ver_girth', 'ankle_length', 'ankle_width',\n",
              "       'heel_to_inner_ball_distance', 'heel_to_outer_ball_distance',\n",
              "       'heel_to_ankle_hor_distance', 'heel_to_ankle_girth',\n",
              "       'heel_to_instep_girth', 'big_toe_angle', 'arch_height', 'foot_length.1',\n",
              "       'foot_width.1', 'ball_distance.1', 'ball_height.1', 'ball_girth.1',\n",
              "       'instep_height.1', 'instep_girth.1', 'big_toe_height.1',\n",
              "       'heel_height.1', 'heel_width.1', 'inner_ankle_bone_height.1',\n",
              "       'outer_ankle_bone_height.1', 'ankle_height.1', 'ankle_hor_girth.1',\n",
              "       'ankle_ver_girth.1', 'ankle_length.1', 'ankle_width.1',\n",
              "       'heel_to_inner_ball_distance.1', 'heel_to_outer_ball_distance.1',\n",
              "       'heel_to_ankle_hor_distance.1', 'heel_to_ankle_girth.1',\n",
              "       'heel_to_instep_girth.1', 'big_toe_angle.1', 'arch_height.1',\n",
              "       'cluster'],\n",
              "      dtype='object')"
            ]
          },
          "metadata": {},
          "execution_count": 8
        }
      ]
    },
    {
      "cell_type": "code",
      "source": [
        "for i in  range(k):\n",
        "  plt.scatter(data.loc[data['cluster'] == i, 'foot_length'], data.loc[data['cluster'] == i, 'heel_height'], label='cluster'+str(i))\n",
        "\n",
        "plt.legend()\n",
        "plt.title('K = %d results'%k, size = 15)\n",
        "plt.xlabel('foot_length',  size = 12)\n",
        "plt.ylabel('heel_height',  size = 12)\n",
        "plt.show()"
      ],
      "metadata": {
        "colab": {
          "base_uri": "https://localhost:8080/",
          "height": 300
        },
        "id": "3nbDoS7RjGpL",
        "outputId": "4012f992-fe25-4290-846e-8bcc8a479bda"
      },
      "execution_count": 9,
      "outputs": [
        {
          "output_type": "display_data",
          "data": {
            "text/plain": [
              "<Figure size 432x288 with 1 Axes>"
            ],
            "image/png": "[encoded data removed]"
          },
          "metadata": {
            "needs_background": "light"
          }
        }
      ]
    }
  ]
}