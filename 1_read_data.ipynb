{
  "cells": [
    {
      "cell_type": "markdown",
      "metadata": {
        "id": "view-in-github",
        "colab_type": "text"
      },
      "source": [
        "<a href=\"https://colab.research.google.com/github/JSJeong-me/Irostyle/blob/main/1_read_data.ipynb\" target=\"_parent\"><img src=\"https://colab.research.google.com/assets/colab-badge.svg\" alt=\"Open In Colab\"/></a>"
      ]
    },
    {
      "cell_type": "code",
      "execution_count": 1,
      "id": "81140c9d-a83f-4d5e-8e21-d23a56a146aa",
      "metadata": {
        "id": "81140c9d-a83f-4d5e-8e21-d23a56a146aa"
      },
      "outputs": [],
      "source": [
        "#!pip install -U pandas-profiling==3.1.0"
      ]
    },
    {
      "cell_type": "code",
      "execution_count": 2,
      "id": "319e93c8-65ae-41a5-b417-976599390be7",
      "metadata": {
        "id": "319e93c8-65ae-41a5-b417-976599390be7"
      },
      "outputs": [],
      "source": [
        "#import pandas_profiling"
      ]
    },
    {
      "cell_type": "code",
      "execution_count": 3,
      "id": "009124cc-8a06-476d-bf63-06a5c05a9f84",
      "metadata": {
        "id": "009124cc-8a06-476d-bf63-06a5c05a9f84"
      },
      "outputs": [],
      "source": [
        "import os"
      ]
    },
    {
      "cell_type": "code",
      "execution_count": 4,
      "id": "1700ceaf-a349-4a8f-b995-e6e191649c13",
      "metadata": {
        "id": "1700ceaf-a349-4a8f-b995-e6e191649c13"
      },
      "outputs": [],
      "source": [
        "import pandas as pd"
      ]
    },
    {
      "cell_type": "code",
      "execution_count": 5,
      "id": "b390c2e6-5c34-4bf6-b8a7-f38139b3a4e7",
      "metadata": {
        "id": "b390c2e6-5c34-4bf6-b8a7-f38139b3a4e7"
      },
      "outputs": [],
      "source": [
        "dir_path = r'./'"
      ]
    },
    {
      "cell_type": "code",
      "execution_count": 6,
      "id": "0e2b9b83-7da7-49d1-8388-e949b8ee45b2",
      "metadata": {
        "id": "0e2b9b83-7da7-49d1-8388-e949b8ee45b2"
      },
      "outputs": [],
      "source": [
        "data = pd.read_excel('feets-old.xlsx', header=[0, 1],  )"
      ]
    },
    {
      "cell_type": "code",
      "source": [
        "data.info()"
      ],
      "metadata": {
        "colab": {
          "base_uri": "https://localhost:8080/"
        },
        "id": "-4OnsEuVzqFh",
        "outputId": "99ac0541-7d42-4f96-adc6-d4d8cd4e393a"
      },
      "id": "-4OnsEuVzqFh",
      "execution_count": 7,
      "outputs": [
        {
          "output_type": "stream",
          "name": "stdout",
          "text": [
            "<class 'pandas.core.frame.DataFrame'>\n",
            "RangeIndex: 2823 entries, 0 to 2822\n",
            "Data columns (total 49 columns):\n",
            " #   Column                                    Non-Null Count  Dtype  \n",
            "---  ------                                    --------------  -----  \n",
            " 0   (Unnamed: 0_level_0, Unnamed: 0_level_1)  2823 non-null   object \n",
            " 1   (footL, foot_length)                      2823 non-null   float64\n",
            " 2   (footL, foot_width)                       2823 non-null   float64\n",
            " 3   (footL, ball_distance)                    2823 non-null   float64\n",
            " 4   (footL, ball_height)                      2823 non-null   float64\n",
            " 5   (footL, ball_girth)                       2823 non-null   float64\n",
            " 6   (footL, instep_height)                    2823 non-null   float64\n",
            " 7   (footL, instep_girth)                     2823 non-null   float64\n",
            " 8   (footL, big_toe_height)                   2823 non-null   float64\n",
            " 9   (footL, heel_height)                      2823 non-null   float64\n",
            " 10  (footL, heel_width)                       2823 non-null   float64\n",
            " 11  (footL, inner_ankle_bone_height)          2823 non-null   float64\n",
            " 12  (footL, outer_ankle_bone_height)          2823 non-null   float64\n",
            " 13  (footL, ankle_height)                     2823 non-null   float64\n",
            " 14  (footL, ankle_hor_girth)                  2823 non-null   float64\n",
            " 15  (footL, ankle_ver_girth)                  2823 non-null   float64\n",
            " 16  (footL, ankle_length)                     2823 non-null   float64\n",
            " 17  (footL, ankle_width)                      2823 non-null   float64\n",
            " 18  (footL, heel_to_inner_ball_distance)      2823 non-null   float64\n",
            " 19  (footL, heel_to_outer_ball_distance)      2823 non-null   float64\n",
            " 20  (footL, heel_to_ankle_hor_distance)       2823 non-null   float64\n",
            " 21  (footL, heel_to_ankle_girth)              2823 non-null   float64\n",
            " 22  (footL, heel_to_instep_girth)             2823 non-null   float64\n",
            " 23  (footL, big_toe_angle)                    2823 non-null   float64\n",
            " 24  (footL, arch_height)                      2823 non-null   float64\n",
            " 25  (footR, foot_length)                      2823 non-null   float64\n",
            " 26  (footR, foot_width)                       2823 non-null   float64\n",
            " 27  (footR, ball_distance)                    2823 non-null   float64\n",
            " 28  (footR, ball_height)                      2823 non-null   float64\n",
            " 29  (footR, ball_girth)                       2823 non-null   float64\n",
            " 30  (footR, instep_height)                    2823 non-null   float64\n",
            " 31  (footR, instep_girth)                     2823 non-null   float64\n",
            " 32  (footR, big_toe_height)                   2823 non-null   float64\n",
            " 33  (footR, heel_height)                      2823 non-null   float64\n",
            " 34  (footR, heel_width)                       2823 non-null   float64\n",
            " 35  (footR, inner_ankle_bone_height)          2823 non-null   float64\n",
            " 36  (footR, outer_ankle_bone_height)          2823 non-null   float64\n",
            " 37  (footR, ankle_height)                     2823 non-null   float64\n",
            " 38  (footR, ankle_hor_girth)                  2823 non-null   float64\n",
            " 39  (footR, ankle_ver_girth)                  2823 non-null   float64\n",
            " 40  (footR, ankle_length)                     2823 non-null   float64\n",
            " 41  (footR, ankle_width)                      2823 non-null   float64\n",
            " 42  (footR, heel_to_inner_ball_distance)      2823 non-null   float64\n",
            " 43  (footR, heel_to_outer_ball_distance)      2823 non-null   float64\n",
            " 44  (footR, heel_to_ankle_hor_distance)       2823 non-null   float64\n",
            " 45  (footR, heel_to_ankle_girth)              2823 non-null   float64\n",
            " 46  (footR, heel_to_instep_girth)             2823 non-null   float64\n",
            " 47  (footR, big_toe_angle)                    2823 non-null   float64\n",
            " 48  (footR, arch_height)                      2823 non-null   float64\n",
            "dtypes: float64(48), object(1)\n",
            "memory usage: 1.1+ MB\n"
          ]
        }
      ]
    },
    {
      "cell_type": "code",
      "source": [
        "data.dtypes"
      ],
      "metadata": {
        "colab": {
          "base_uri": "https://localhost:8080/"
        },
        "id": "Oj4cC25Fz8Cz",
        "outputId": "871eaa1c-fb9b-4c9b-a718-14ad56e93dbf"
      },
      "id": "Oj4cC25Fz8Cz",
      "execution_count": 8,
      "outputs": [
        {
          "output_type": "execute_result",
          "data": {
            "text/plain": [
              "Unnamed: 0_level_0  Unnamed: 0_level_1              object\n",
              "footL               foot_length                    float64\n",
              "                    foot_width                     float64\n",
              "                    ball_distance                  float64\n",
              "                    ball_height                    float64\n",
              "                    ball_girth                     float64\n",
              "                    instep_height                  float64\n",
              "                    instep_girth                   float64\n",
              "                    big_toe_height                 float64\n",
              "                    heel_height                    float64\n",
              "                    heel_width                     float64\n",
              "                    inner_ankle_bone_height        float64\n",
              "                    outer_ankle_bone_height        float64\n",
              "                    ankle_height                   float64\n",
              "                    ankle_hor_girth                float64\n",
              "                    ankle_ver_girth                float64\n",
              "                    ankle_length                   float64\n",
              "                    ankle_width                    float64\n",
              "                    heel_to_inner_ball_distance    float64\n",
              "                    heel_to_outer_ball_distance    float64\n",
              "                    heel_to_ankle_hor_distance     float64\n",
              "                    heel_to_ankle_girth            float64\n",
              "                    heel_to_instep_girth           float64\n",
              "                    big_toe_angle                  float64\n",
              "                    arch_height                    float64\n",
              "footR               foot_length                    float64\n",
              "                    foot_width                     float64\n",
              "                    ball_distance                  float64\n",
              "                    ball_height                    float64\n",
              "                    ball_girth                     float64\n",
              "                    instep_height                  float64\n",
              "                    instep_girth                   float64\n",
              "                    big_toe_height                 float64\n",
              "                    heel_height                    float64\n",
              "                    heel_width                     float64\n",
              "                    inner_ankle_bone_height        float64\n",
              "                    outer_ankle_bone_height        float64\n",
              "                    ankle_height                   float64\n",
              "                    ankle_hor_girth                float64\n",
              "                    ankle_ver_girth                float64\n",
              "                    ankle_length                   float64\n",
              "                    ankle_width                    float64\n",
              "                    heel_to_inner_ball_distance    float64\n",
              "                    heel_to_outer_ball_distance    float64\n",
              "                    heel_to_ankle_hor_distance     float64\n",
              "                    heel_to_ankle_girth            float64\n",
              "                    heel_to_instep_girth           float64\n",
              "                    big_toe_angle                  float64\n",
              "                    arch_height                    float64\n",
              "dtype: object"
            ]
          },
          "metadata": {},
          "execution_count": 8
        }
      ]
    },
    {
      "cell_type": "code",
      "execution_count": 9,
      "id": "2086020b-a370-4c71-911b-e20fd6ee1eea",
      "metadata": {
        "colab": {
          "base_uri": "https://localhost:8080/"
        },
        "id": "2086020b-a370-4c71-911b-e20fd6ee1eea",
        "outputId": "f18ac457-9421-4266-f3ae-c19544448ac5"
      },
      "outputs": [
        {
          "output_type": "execute_result",
          "data": {
            "text/plain": [
              "MultiIndex([('Unnamed: 0_level_0',          'Unnamed: 0_level_1'),\n",
              "            (             'footL',                 'foot_length'),\n",
              "            (             'footL',                  'foot_width'),\n",
              "            (             'footL',               'ball_distance'),\n",
              "            (             'footL',                 'ball_height'),\n",
              "            (             'footL',                  'ball_girth'),\n",
              "            (             'footL',               'instep_height'),\n",
              "            (             'footL',                'instep_girth'),\n",
              "            (             'footL',              'big_toe_height'),\n",
              "            (             'footL',                 'heel_height'),\n",
              "            (             'footL',                  'heel_width'),\n",
              "            (             'footL',     'inner_ankle_bone_height'),\n",
              "            (             'footL',     'outer_ankle_bone_height'),\n",
              "            (             'footL',                'ankle_height'),\n",
              "            (             'footL',             'ankle_hor_girth'),\n",
              "            (             'footL',             'ankle_ver_girth'),\n",
              "            (             'footL',                'ankle_length'),\n",
              "            (             'footL',                 'ankle_width'),\n",
              "            (             'footL', 'heel_to_inner_ball_distance'),\n",
              "            (             'footL', 'heel_to_outer_ball_distance'),\n",
              "            (             'footL',  'heel_to_ankle_hor_distance'),\n",
              "            (             'footL',         'heel_to_ankle_girth'),\n",
              "            (             'footL',        'heel_to_instep_girth'),\n",
              "            (             'footL',               'big_toe_angle'),\n",
              "            (             'footL',                 'arch_height'),\n",
              "            (             'footR',                 'foot_length'),\n",
              "            (             'footR',                  'foot_width'),\n",
              "            (             'footR',               'ball_distance'),\n",
              "            (             'footR',                 'ball_height'),\n",
              "            (             'footR',                  'ball_girth'),\n",
              "            (             'footR',               'instep_height'),\n",
              "            (             'footR',                'instep_girth'),\n",
              "            (             'footR',              'big_toe_height'),\n",
              "            (             'footR',                 'heel_height'),\n",
              "            (             'footR',                  'heel_width'),\n",
              "            (             'footR',     'inner_ankle_bone_height'),\n",
              "            (             'footR',     'outer_ankle_bone_height'),\n",
              "            (             'footR',                'ankle_height'),\n",
              "            (             'footR',             'ankle_hor_girth'),\n",
              "            (             'footR',             'ankle_ver_girth'),\n",
              "            (             'footR',                'ankle_length'),\n",
              "            (             'footR',                 'ankle_width'),\n",
              "            (             'footR', 'heel_to_inner_ball_distance'),\n",
              "            (             'footR', 'heel_to_outer_ball_distance'),\n",
              "            (             'footR',  'heel_to_ankle_hor_distance'),\n",
              "            (             'footR',         'heel_to_ankle_girth'),\n",
              "            (             'footR',        'heel_to_instep_girth'),\n",
              "            (             'footR',               'big_toe_angle'),\n",
              "            (             'footR',                 'arch_height')],\n",
              "           )"
            ]
          },
          "metadata": {},
          "execution_count": 9
        }
      ],
      "source": [
        "data.columns"
      ]
    },
    {
      "cell_type": "code",
      "execution_count": 10,
      "id": "b4b30a98-633f-49ad-8266-3b9ffa11209f",
      "metadata": {
        "colab": {
          "base_uri": "https://localhost:8080/"
        },
        "id": "b4b30a98-633f-49ad-8266-3b9ffa11209f",
        "outputId": "62eae91a-acfa-4282-92e8-c39774c9e7c1"
      },
      "outputs": [
        {
          "output_type": "execute_result",
          "data": {
            "text/plain": [
              "Unnamed: 0_level_0  Unnamed: 0_level_1             _20211222164836\n",
              "footL               foot_length                            240.574\n",
              "                    foot_width                             96.4166\n",
              "                    ball_distance                          98.5265\n",
              "                    ball_height                            32.5919\n",
              "                    ball_girth                             236.706\n",
              "                    instep_height                          51.8657\n",
              "                    instep_girth                           230.781\n",
              "                    big_toe_height                         17.8304\n",
              "                    heel_height                             19.093\n",
              "                    heel_width                             58.4859\n",
              "                    inner_ankle_bone_height                73.3451\n",
              "                    outer_ankle_bone_height                 65.401\n",
              "                    ankle_height                           69.6041\n",
              "                    ankle_hor_girth                        233.839\n",
              "                    ankle_ver_girth                        239.891\n",
              "                    ankle_length                           87.5063\n",
              "                    ankle_width                            66.5388\n",
              "                    heel_to_inner_ball_distance            180.686\n",
              "                    heel_to_outer_ball_distance            162.232\n",
              "                    heel_to_ankle_hor_distance             101.929\n",
              "                    heel_to_ankle_girth                    298.643\n",
              "                    heel_to_instep_girth                   333.993\n",
              "                    big_toe_angle                          -1.4688\n",
              "                    arch_height                            13.9643\n",
              "footR               foot_length                            241.717\n",
              "                    foot_width                             99.3916\n",
              "                    ball_distance                            100.1\n",
              "                    ball_height                            30.8241\n",
              "                    ball_girth                             238.651\n",
              "                    instep_height                          53.0513\n",
              "                    instep_girth                           235.052\n",
              "                    big_toe_height                         17.0272\n",
              "                    heel_height                            18.8619\n",
              "                    heel_width                             60.0993\n",
              "                    inner_ankle_bone_height                74.5352\n",
              "                    outer_ankle_bone_height                64.9848\n",
              "                    ankle_height                            70.574\n",
              "                    ankle_hor_girth                        238.806\n",
              "                    ankle_ver_girth                        244.119\n",
              "                    ankle_length                            92.946\n",
              "                    ankle_width                            64.1286\n",
              "                    heel_to_inner_ball_distance            181.914\n",
              "                    heel_to_outer_ball_distance            163.878\n",
              "                    heel_to_ankle_hor_distance             104.467\n",
              "                    heel_to_ankle_girth                    304.447\n",
              "                    heel_to_instep_girth                   339.224\n",
              "                    big_toe_angle                         -3.17983\n",
              "                    arch_height                            11.3433\n",
              "Name: 2822, dtype: object"
            ]
          },
          "metadata": {},
          "execution_count": 10
        }
      ],
      "source": [
        "data.iloc[-1]"
      ]
    },
    {
      "cell_type": "code",
      "execution_count": 11,
      "id": "554a0c81-56ea-480f-8118-f23403b39095",
      "metadata": {
        "colab": {
          "base_uri": "https://localhost:8080/",
          "height": 425
        },
        "id": "554a0c81-56ea-480f-8118-f23403b39095",
        "outputId": "13937625-e03b-4ae0-b31b-050052fc6c9a"
      },
      "outputs": [
        {
          "output_type": "execute_result",
          "data": {
            "text/plain": [
              "             footL                                                       \\\n",
              "       foot_length   foot_width ball_distance  ball_height   ball_girth   \n",
              "count  2823.000000  2823.000000   2823.000000  2823.000000  2823.000000   \n",
              "mean    232.856674    91.669120     93.284864    33.673238   226.761601   \n",
              "std      12.415206     5.346316      5.524749     2.457991    12.672794   \n",
              "min     195.796000    74.979400     76.500100    26.615200   186.917000   \n",
              "25%     225.080000    88.147100     89.700400    32.038500   218.700500   \n",
              "50%     232.450000    91.254100     92.927400    33.327300   225.809000   \n",
              "75%     240.282000    94.519400     96.357550    34.854800   233.515000   \n",
              "max     291.650000   125.640000    122.624000    55.474200   293.322000   \n",
              "\n",
              "                                                                           \\\n",
              "      instep_height instep_girth big_toe_height  heel_height   heel_width   \n",
              "count   2823.000000  2823.000000    2823.000000  2823.000000  2823.000000   \n",
              "mean      52.489535   222.368315      19.279072    20.998629    58.637217   \n",
              "std        4.483155    13.581314       1.779876    10.222228     5.283239   \n",
              "min       38.489400   182.875000      12.479700    15.447300    27.892600   \n",
              "25%       49.682800   213.986000      18.211450    18.383050    55.711500   \n",
              "50%       52.029700   220.861000      19.096800    19.112200    57.972100   \n",
              "75%       54.869150   228.311500      20.048200    20.379100    60.703600   \n",
              "max       97.143900   389.130000      51.873700   100.686000   106.338000   \n",
              "\n",
              "       ...           footR                            \\\n",
              "       ... ankle_ver_girth ankle_length  ankle_width   \n",
              "count  ...     2823.000000  2823.000000  2823.000000   \n",
              "mean   ...      236.589326    91.991708    64.127925   \n",
              "std    ...       19.187325     6.505888     5.618779   \n",
              "min    ...      180.184000    71.793400    50.267800   \n",
              "25%    ...      227.415500    88.018200    61.219150   \n",
              "50%    ...      234.541000    91.343500    63.407900   \n",
              "75%    ...      242.262500    94.923450    65.855150   \n",
              "max    ...      818.433000   161.519000   122.065000   \n",
              "\n",
              "                                                               \\\n",
              "      heel_to_inner_ball_distance heel_to_outer_ball_distance   \n",
              "count                 2823.000000                 2823.000000   \n",
              "mean                   176.447210                  156.248988   \n",
              "std                      9.797602                    8.755843   \n",
              "min                    138.594000                  125.631000   \n",
              "25%                    170.284000                  150.883000   \n",
              "50%                    175.930000                  155.934000   \n",
              "75%                    181.960000                  161.122500   \n",
              "max                    232.301000                  210.269000   \n",
              "\n",
              "                                                                           \\\n",
              "      heel_to_ankle_hor_distance heel_to_ankle_girth heel_to_instep_girth   \n",
              "count                2823.000000         2823.000000          2823.000000   \n",
              "mean                  103.009939          300.595701           331.955423   \n",
              "std                     7.651257           17.976727            16.940877   \n",
              "min                    83.649200          232.883000           259.399000   \n",
              "25%                    98.210000          289.494000           321.509500   \n",
              "50%                   102.238000          298.935000           330.796000   \n",
              "75%                   106.422000          308.913000           340.978500   \n",
              "max                   162.378000          470.820000           451.794000   \n",
              "\n",
              "                                  \n",
              "      big_toe_angle  arch_height  \n",
              "count   2823.000000  2823.000000  \n",
              "mean       5.302738    11.678394  \n",
              "std        4.411284     3.290665  \n",
              "min       -7.594640     0.000000  \n",
              "25%        1.847610    10.053000  \n",
              "50%        4.899090    11.800600  \n",
              "75%        7.907160    13.405450  \n",
              "max       25.906500    94.463200  \n",
              "\n",
              "[8 rows x 48 columns]"
            ],
            "text/html": [
              "\n",
              "  <div id=\"df-b64d4b85-eebe-4a86-a300-e39046c26d49\">\n",
              "    <div class=\"colab-df-container\">\n",
              "      <div>\n",
              "<style scoped>\n",
              "    .dataframe tbody tr th:only-of-type {\n",
              "        vertical-align: middle;\n",
              "    }\n",
              "\n",
              "    .dataframe tbody tr th {\n",
              "        vertical-align: top;\n",
              "    }\n",
              "\n",
              "    .dataframe thead tr th {\n",
              "        text-align: left;\n",
              "    }\n",
              "</style>\n",
              "<table border=\"1\" class=\"dataframe\">\n",
              "  <thead>\n",
              "    <tr>\n",
              "      <th></th>\n",
              "      <th colspan=\"10\" halign=\"left\">footL</th>\n",
              "      <th>...</th>\n",
              "      <th colspan=\"10\" halign=\"left\">footR</th>\n",
              "    </tr>\n",
              "    <tr>\n",
              "      <th></th>\n",
              "      <th>foot_length</th>\n",
              "      <th>foot_width</th>\n",
              "      <th>ball_distance</th>\n",
              "      <th>ball_height</th>\n",
              "      <th>ball_girth</th>\n",
              "      <th>instep_height</th>\n",
              "      <th>instep_girth</th>\n",
              "      <th>big_toe_height</th>\n",
              "      <th>heel_height</th>\n",
              "      <th>heel_width</th>\n",
              "      <th>...</th>\n",
              "      <th>ankle_ver_girth</th>\n",
              "      <th>ankle_length</th>\n",
              "      <th>ankle_width</th>\n",
              "      <th>heel_to_inner_ball_distance</th>\n",
              "      <th>heel_to_outer_ball_distance</th>\n",
              "      <th>heel_to_ankle_hor_distance</th>\n",
              "      <th>heel_to_ankle_girth</th>\n",
              "      <th>heel_to_instep_girth</th>\n",
              "      <th>big_toe_angle</th>\n",
              "      <th>arch_height</th>\n",
              "    </tr>\n",
              "  </thead>\n",
              "  <tbody>\n",
              "    <tr>\n",
              "      <th>count</th>\n",
              "      <td>2823.000000</td>\n",
              "      <td>2823.000000</td>\n",
              "      <td>2823.000000</td>\n",
              "      <td>2823.000000</td>\n",
              "      <td>2823.000000</td>\n",
              "      <td>2823.000000</td>\n",
              "      <td>2823.000000</td>\n",
              "      <td>2823.000000</td>\n",
              "      <td>2823.000000</td>\n",
              "      <td>2823.000000</td>\n",
              "      <td>...</td>\n",
              "      <td>2823.000000</td>\n",
              "      <td>2823.000000</td>\n",
              "      <td>2823.000000</td>\n",
              "      <td>2823.000000</td>\n",
              "      <td>2823.000000</td>\n",
              "      <td>2823.000000</td>\n",
              "      <td>2823.000000</td>\n",
              "      <td>2823.000000</td>\n",
              "      <td>2823.000000</td>\n",
              "      <td>2823.000000</td>\n",
              "    </tr>\n",
              "    <tr>\n",
              "      <th>mean</th>\n",
              "      <td>232.856674</td>\n",
              "      <td>91.669120</td>\n",
              "      <td>93.284864</td>\n",
              "      <td>33.673238</td>\n",
              "      <td>226.761601</td>\n",
              "      <td>52.489535</td>\n",
              "      <td>222.368315</td>\n",
              "      <td>19.279072</td>\n",
              "      <td>20.998629</td>\n",
              "      <td>58.637217</td>\n",
              "      <td>...</td>\n",
              "      <td>236.589326</td>\n",
              "      <td>91.991708</td>\n",
              "      <td>64.127925</td>\n",
              "      <td>176.447210</td>\n",
              "      <td>156.248988</td>\n",
              "      <td>103.009939</td>\n",
              "      <td>300.595701</td>\n",
              "      <td>331.955423</td>\n",
              "      <td>5.302738</td>\n",
              "      <td>11.678394</td>\n",
              "    </tr>\n",
              "    <tr>\n",
              "      <th>std</th>\n",
              "      <td>12.415206</td>\n",
              "      <td>5.346316</td>\n",
              "      <td>5.524749</td>\n",
              "      <td>2.457991</td>\n",
              "      <td>12.672794</td>\n",
              "      <td>4.483155</td>\n",
              "      <td>13.581314</td>\n",
              "      <td>1.779876</td>\n",
              "      <td>10.222228</td>\n",
              "      <td>5.283239</td>\n",
              "      <td>...</td>\n",
              "      <td>19.187325</td>\n",
              "      <td>6.505888</td>\n",
              "      <td>5.618779</td>\n",
              "      <td>9.797602</td>\n",
              "      <td>8.755843</td>\n",
              "      <td>7.651257</td>\n",
              "      <td>17.976727</td>\n",
              "      <td>16.940877</td>\n",
              "      <td>4.411284</td>\n",
              "      <td>3.290665</td>\n",
              "    </tr>\n",
              "    <tr>\n",
              "      <th>min</th>\n",
              "      <td>195.796000</td>\n",
              "      <td>74.979400</td>\n",
              "      <td>76.500100</td>\n",
              "      <td>26.615200</td>\n",
              "      <td>186.917000</td>\n",
              "      <td>38.489400</td>\n",
              "      <td>182.875000</td>\n",
              "      <td>12.479700</td>\n",
              "      <td>15.447300</td>\n",
              "      <td>27.892600</td>\n",
              "      <td>...</td>\n",
              "      <td>180.184000</td>\n",
              "      <td>71.793400</td>\n",
              "      <td>50.267800</td>\n",
              "      <td>138.594000</td>\n",
              "      <td>125.631000</td>\n",
              "      <td>83.649200</td>\n",
              "      <td>232.883000</td>\n",
              "      <td>259.399000</td>\n",
              "      <td>-7.594640</td>\n",
              "      <td>0.000000</td>\n",
              "    </tr>\n",
              "    <tr>\n",
              "      <th>25%</th>\n",
              "      <td>225.080000</td>\n",
              "      <td>88.147100</td>\n",
              "      <td>89.700400</td>\n",
              "      <td>32.038500</td>\n",
              "      <td>218.700500</td>\n",
              "      <td>49.682800</td>\n",
              "      <td>213.986000</td>\n",
              "      <td>18.211450</td>\n",
              "      <td>18.383050</td>\n",
              "      <td>55.711500</td>\n",
              "      <td>...</td>\n",
              "      <td>227.415500</td>\n",
              "      <td>88.018200</td>\n",
              "      <td>61.219150</td>\n",
              "      <td>170.284000</td>\n",
              "      <td>150.883000</td>\n",
              "      <td>98.210000</td>\n",
              "      <td>289.494000</td>\n",
              "      <td>321.509500</td>\n",
              "      <td>1.847610</td>\n",
              "      <td>10.053000</td>\n",
              "    </tr>\n",
              "    <tr>\n",
              "      <th>50%</th>\n",
              "      <td>232.450000</td>\n",
              "      <td>91.254100</td>\n",
              "      <td>92.927400</td>\n",
              "      <td>33.327300</td>\n",
              "      <td>225.809000</td>\n",
              "      <td>52.029700</td>\n",
              "      <td>220.861000</td>\n",
              "      <td>19.096800</td>\n",
              "      <td>19.112200</td>\n",
              "      <td>57.972100</td>\n",
              "      <td>...</td>\n",
              "      <td>234.541000</td>\n",
              "      <td>91.343500</td>\n",
              "      <td>63.407900</td>\n",
              "      <td>175.930000</td>\n",
              "      <td>155.934000</td>\n",
              "      <td>102.238000</td>\n",
              "      <td>298.935000</td>\n",
              "      <td>330.796000</td>\n",
              "      <td>4.899090</td>\n",
              "      <td>11.800600</td>\n",
              "    </tr>\n",
              "    <tr>\n",
              "      <th>75%</th>\n",
              "      <td>240.282000</td>\n",
              "      <td>94.519400</td>\n",
              "      <td>96.357550</td>\n",
              "      <td>34.854800</td>\n",
              "      <td>233.515000</td>\n",
              "      <td>54.869150</td>\n",
              "      <td>228.311500</td>\n",
              "      <td>20.048200</td>\n",
              "      <td>20.379100</td>\n",
              "      <td>60.703600</td>\n",
              "      <td>...</td>\n",
              "      <td>242.262500</td>\n",
              "      <td>94.923450</td>\n",
              "      <td>65.855150</td>\n",
              "      <td>181.960000</td>\n",
              "      <td>161.122500</td>\n",
              "      <td>106.422000</td>\n",
              "      <td>308.913000</td>\n",
              "      <td>340.978500</td>\n",
              "      <td>7.907160</td>\n",
              "      <td>13.405450</td>\n",
              "    </tr>\n",
              "    <tr>\n",
              "      <th>max</th>\n",
              "      <td>291.650000</td>\n",
              "      <td>125.640000</td>\n",
              "      <td>122.624000</td>\n",
              "      <td>55.474200</td>\n",
              "      <td>293.322000</td>\n",
              "      <td>97.143900</td>\n",
              "      <td>389.130000</td>\n",
              "      <td>51.873700</td>\n",
              "      <td>100.686000</td>\n",
              "      <td>106.338000</td>\n",
              "      <td>...</td>\n",
              "      <td>818.433000</td>\n",
              "      <td>161.519000</td>\n",
              "      <td>122.065000</td>\n",
              "      <td>232.301000</td>\n",
              "      <td>210.269000</td>\n",
              "      <td>162.378000</td>\n",
              "      <td>470.820000</td>\n",
              "      <td>451.794000</td>\n",
              "      <td>25.906500</td>\n",
              "      <td>94.463200</td>\n",
              "    </tr>\n",
              "  </tbody>\n",
              "</table>\n",
              "<p>8 rows × 48 columns</p>\n",
              "</div>\n",
              "      <button class=\"colab-df-convert\" onclick=\"convertToInteractive('df-b64d4b85-eebe-4a86-a300-e39046c26d49')\"\n",
              "              title=\"Convert this dataframe to an interactive table.\"\n",
              "              style=\"display:none;\">\n",
              "        \n",
              "  <svg xmlns=\"http://www.w3.org/2000/svg\" height=\"24px\"viewBox=\"0 0 24 24\"\n",
              "       width=\"24px\">\n",
              "    <path d=\"M0 0h24v24H0V0z\" fill=\"none\"/>\n",
              "    <path d=\"M18.56 5.44l.94 2.06.94-2.06 2.06-.94-2.06-.94-.94-2.06-.94 2.06-2.06.94zm-11 1L8.5 8.5l.94-2.06 2.06-.94-2.06-.94L8.5 2.5l-.94 2.06-2.06.94zm10 10l.94 2.06.94-2.06 2.06-.94-2.06-.94-.94-2.06-.94 2.06-2.06.94z\"/><path d=\"M17.41 7.96l-1.37-1.37c-.4-.4-.92-.59-1.43-.59-.52 0-1.04.2-1.43.59L10.3 9.45l-7.72 7.72c-.78.78-.78 2.05 0 2.83L4 21.41c.39.39.9.59 1.41.59.51 0 1.02-.2 1.41-.59l7.78-7.78 2.81-2.81c.8-.78.8-2.07 0-2.86zM5.41 20L4 18.59l7.72-7.72 1.47 1.35L5.41 20z\"/>\n",
              "  </svg>\n",
              "      </button>\n",
              "      \n",
              "  <style>\n",
              "    .colab-df-container {\n",
              "      display:flex;\n",
              "      flex-wrap:wrap;\n",
              "      gap: 12px;\n",
              "    }\n",
              "\n",
              "    .colab-df-convert {\n",
              "      background-color: #E8F0FE;\n",
              "      border: none;\n",
              "      border-radius: 50%;\n",
              "      cursor: pointer;\n",
              "      display: none;\n",
              "      fill: #1967D2;\n",
              "      height: 32px;\n",
              "      padding: 0 0 0 0;\n",
              "      width: 32px;\n",
              "    }\n",
              "\n",
              "    .colab-df-convert:hover {\n",
              "      background-color: #E2EBFA;\n",
              "      box-shadow: 0px 1px 2px rgba(60, 64, 67, 0.3), 0px 1px 3px 1px rgba(60, 64, 67, 0.15);\n",
              "      fill: #174EA6;\n",
              "    }\n",
              "\n",
              "    [theme=dark] .colab-df-convert {\n",
              "      background-color: #3B4455;\n",
              "      fill: #D2E3FC;\n",
              "    }\n",
              "\n",
              "    [theme=dark] .colab-df-convert:hover {\n",
              "      background-color: #434B5C;\n",
              "      box-shadow: 0px 1px 3px 1px rgba(0, 0, 0, 0.15);\n",
              "      filter: drop-shadow(0px 1px 2px rgba(0, 0, 0, 0.3));\n",
              "      fill: #FFFFFF;\n",
              "    }\n",
              "  </style>\n",
              "\n",
              "      <script>\n",
              "        const buttonEl =\n",
              "          document.querySelector('#df-b64d4b85-eebe-4a86-a300-e39046c26d49 button.colab-df-convert');\n",
              "        buttonEl.style.display =\n",
              "          google.colab.kernel.accessAllowed ? 'block' : 'none';\n",
              "\n",
              "        async function convertToInteractive(key) {\n",
              "          const element = document.querySelector('#df-b64d4b85-eebe-4a86-a300-e39046c26d49');\n",
              "          const dataTable =\n",
              "            await google.colab.kernel.invokeFunction('convertToInteractive',\n",
              "                                                     [key], {});\n",
              "          if (!dataTable) return;\n",
              "\n",
              "          const docLinkHtml = 'Like what you see? Visit the ' +\n",
              "            '<a target=\"_blank\" href=https://colab.research.google.com/notebooks/data_table.ipynb>data table notebook</a>'\n",
              "            + ' to learn more about interactive tables.';\n",
              "          element.innerHTML = '';\n",
              "          dataTable['output_type'] = 'display_data';\n",
              "          await google.colab.output.renderOutput(dataTable, element);\n",
              "          const docLink = document.createElement('div');\n",
              "          docLink.innerHTML = docLinkHtml;\n",
              "          element.appendChild(docLink);\n",
              "        }\n",
              "      </script>\n",
              "    </div>\n",
              "  </div>\n",
              "  "
            ]
          },
          "metadata": {},
          "execution_count": 11
        }
      ],
      "source": [
        "data.describe()"
      ]
    },
    {
      "cell_type": "code",
      "execution_count": 12,
      "id": "a5768ad4-0668-43a3-8012-54613df25763",
      "metadata": {
        "colab": {
          "base_uri": "https://localhost:8080/"
        },
        "id": "a5768ad4-0668-43a3-8012-54613df25763",
        "outputId": "c91dcc56-3a16-4d9a-fa13-2aad18ef7fbd"
      },
      "outputs": [
        {
          "output_type": "execute_result",
          "data": {
            "text/plain": [
              "0       01020010865_20200129163821\n",
              "1       01020037730_20210102143520\n",
              "2       01020038856_20200202161106\n",
              "3       01020055078_20200501130123\n",
              "4       01020095930_20220525191528\n",
              "                   ...            \n",
              "2818           2030_20211026232207\n",
              "2819               _20200815184035\n",
              "2820               _20211211151440\n",
              "2821               _20211217230951\n",
              "2822               _20211222164836\n",
              "Name: (Unnamed: 0_level_0, Unnamed: 0_level_1), Length: 2823, dtype: object"
            ]
          },
          "metadata": {},
          "execution_count": 12
        }
      ],
      "source": [
        "data[('Unnamed: 0_level_0',          'Unnamed: 0_level_1')]"
      ]
    },
    {
      "cell_type": "code",
      "source": [
        "data.astype({(             'footL',                 'foot_length'):'int'})"
      ],
      "metadata": {
        "id": "0MCf2QvK0TkH"
      },
      "id": "0MCf2QvK0TkH",
      "execution_count": null,
      "outputs": []
    },
    {
      "cell_type": "code",
      "source": [
        "foot_L = data[(             'footL',                 'foot_length')].round()"
      ],
      "metadata": {
        "id": "gqJTsDJP102X"
      },
      "id": "gqJTsDJP102X",
      "execution_count": 14,
      "outputs": []
    },
    {
      "cell_type": "code",
      "source": [
        "foot_R = data[(             'footR',                 'foot_length')].round()"
      ],
      "metadata": {
        "id": "hXEgtI2iW1EM"
      },
      "id": "hXEgtI2iW1EM",
      "execution_count": 15,
      "outputs": []
    },
    {
      "cell_type": "code",
      "source": [
        "type(foot_L)"
      ],
      "metadata": {
        "colab": {
          "base_uri": "https://localhost:8080/"
        },
        "id": "rX3xSE2K3hnp",
        "outputId": "0a3af908-3f94-4b29-d05c-5671b496c566"
      },
      "id": "rX3xSE2K3hnp",
      "execution_count": 16,
      "outputs": [
        {
          "output_type": "execute_result",
          "data": {
            "text/plain": [
              "pandas.core.series.Series"
            ]
          },
          "metadata": {},
          "execution_count": 16
        }
      ]
    },
    {
      "cell_type": "code",
      "source": [
        "foot_L.value_counts() # normalize=True"
      ],
      "metadata": {
        "colab": {
          "base_uri": "https://localhost:8080/"
        },
        "id": "sBlYmI343nc4",
        "outputId": "2c38cf3b-a690-4c97-a9ae-c0a0a44643a3"
      },
      "id": "sBlYmI343nc4",
      "execution_count": 17,
      "outputs": [
        {
          "output_type": "execute_result",
          "data": {
            "text/plain": [
              "229.0    113\n",
              "227.0    112\n",
              "234.0     99\n",
              "232.0     98\n",
              "235.0     98\n",
              "        ... \n",
              "196.0      1\n",
              "276.0      1\n",
              "283.0      1\n",
              "292.0      1\n",
              "273.0      1\n",
              "Name: (footL, foot_length), Length: 86, dtype: int64"
            ]
          },
          "metadata": {},
          "execution_count": 17
        }
      ]
    },
    {
      "cell_type": "code",
      "source": [
        "foot_R.value_counts()"
      ],
      "metadata": {
        "id": "AlvwzznTXALw",
        "outputId": "e922160f-db5a-4951-a0c0-d58a8a9fd52e",
        "colab": {
          "base_uri": "https://localhost:8080/"
        }
      },
      "id": "AlvwzznTXALw",
      "execution_count": 18,
      "outputs": [
        {
          "output_type": "execute_result",
          "data": {
            "text/plain": [
              "233.0    110\n",
              "231.0    107\n",
              "230.0    100\n",
              "236.0     99\n",
              "229.0     96\n",
              "        ... \n",
              "194.0      1\n",
              "281.0      1\n",
              "179.0      1\n",
              "291.0      1\n",
              "282.0      1\n",
              "Name: (footR, foot_length), Length: 87, dtype: int64"
            ]
          },
          "metadata": {},
          "execution_count": 18
        }
      ]
    },
    {
      "cell_type": "code",
      "source": [
        "# foot_L.value_counts(bins=20)"
      ],
      "metadata": {
        "id": "Nc6xskTb30rt"
      },
      "id": "Nc6xskTb30rt",
      "execution_count": 19,
      "outputs": []
    },
    {
      "cell_type": "code",
      "source": [
        "# foot_L.value_counts(bins=20).hist()"
      ],
      "metadata": {
        "id": "j3XtmkTe38vo"
      },
      "id": "j3XtmkTe38vo",
      "execution_count": 20,
      "outputs": []
    },
    {
      "cell_type": "code",
      "source": [
        "foot_L.value_counts(bins=20).plot.bar()"
      ],
      "metadata": {
        "colab": {
          "base_uri": "https://localhost:8080/",
          "height": 357
        },
        "id": "CdJ5PHg438e0",
        "outputId": "4858c367-6b74-4c89-df8f-003cfbbc8233"
      },
      "id": "CdJ5PHg438e0",
      "execution_count": 21,
      "outputs": [
        {
          "output_type": "execute_result",
          "data": {
            "text/plain": [
              "<AxesSubplot:>"
            ]
          },
          "metadata": {},
          "execution_count": 21
        },
        {
          "output_type": "display_data",
          "data": {
            "text/plain": [
              "<Figure size 432x288 with 1 Axes>"
            ],
            "image/png": "[encoded data removed]"
          },
          "metadata": {
            "needs_background": "light"
          }
        }
      ]
    },
    {
      "cell_type": "code",
      "source": [
        "foot_R.value_counts(bins=20).plot.bar()"
      ],
      "metadata": {
        "id": "3EyNeIh_XXzz",
        "outputId": "30e2b6b4-7915-48cf-d0df-c202f9dc1993",
        "colab": {
          "base_uri": "https://localhost:8080/",
          "height": 357
        }
      },
      "id": "3EyNeIh_XXzz",
      "execution_count": 22,
      "outputs": [
        {
          "output_type": "execute_result",
          "data": {
            "text/plain": [
              "<AxesSubplot:>"
            ]
          },
          "metadata": {},
          "execution_count": 22
        },
        {
          "output_type": "display_data",
          "data": {
            "text/plain": [
              "<Figure size 432x288 with 1 Axes>"
            ],
            "image/png": "[encoded data removed]"
          },
          "metadata": {
            "needs_background": "light"
          }
        }
      ]
    },
    {
      "cell_type": "code",
      "source": [
        "foot_L.hist(bins=70)"
      ],
      "metadata": {
        "id": "PRqfXAWN4Ysm",
        "outputId": "c1f1878f-cba7-4f9d-d658-ce018a0d408e",
        "colab": {
          "base_uri": "https://localhost:8080/",
          "height": 283
        }
      },
      "id": "PRqfXAWN4Ysm",
      "execution_count": 23,
      "outputs": [
        {
          "output_type": "execute_result",
          "data": {
            "text/plain": [
              "<AxesSubplot:>"
            ]
          },
          "metadata": {},
          "execution_count": 23
        },
        {
          "output_type": "display_data",
          "data": {
            "text/plain": [
              "<Figure size 432x288 with 1 Axes>"
            ],
            "image/png": "[encoded data removed]"
          },
          "metadata": {
            "needs_background": "light"
          }
        }
      ]
    },
    {
      "cell_type": "code",
      "source": [
        "foot_R.hist(bins=70)"
      ],
      "metadata": {
        "id": "hF6aToxy1mYn",
        "outputId": "06155274-f27a-4d59-ed88-bded5c8cf3fc",
        "colab": {
          "base_uri": "https://localhost:8080/",
          "height": 283
        }
      },
      "id": "hF6aToxy1mYn",
      "execution_count": 24,
      "outputs": [
        {
          "output_type": "execute_result",
          "data": {
            "text/plain": [
              "<AxesSubplot:>"
            ]
          },
          "metadata": {},
          "execution_count": 24
        },
        {
          "output_type": "display_data",
          "data": {
            "text/plain": [
              "<Figure size 432x288 with 1 Axes>"
            ],
            "image/png": "[encoded data removed]"
          },
          "metadata": {
            "needs_background": "light"
          }
        }
      ]
    },
    {
      "cell_type": "code",
      "source": [
        ""
      ],
      "metadata": {
        "id": "pxXEMjhu1mU2"
      },
      "id": "pxXEMjhu1mU2",
      "execution_count": 24,
      "outputs": []
    },
    {
      "cell_type": "code",
      "source": [
        ""
      ],
      "metadata": {
        "id": "J1kJXY8V1mRJ"
      },
      "id": "J1kJXY8V1mRJ",
      "execution_count": 24,
      "outputs": []
    },
    {
      "cell_type": "code",
      "source": [
        ""
      ],
      "metadata": {
        "id": "Zp-5Rfpj1mOs"
      },
      "id": "Zp-5Rfpj1mOs",
      "execution_count": 24,
      "outputs": []
    },
    {
      "cell_type": "code",
      "source": [
        ""
      ],
      "metadata": {
        "id": "6XRPC3He1mLU"
      },
      "id": "6XRPC3He1mLU",
      "execution_count": 24,
      "outputs": []
    },
    {
      "cell_type": "code",
      "execution_count": 24,
      "id": "7d36d7a9-249f-4ea3-aaa9-02c0dd26e21e",
      "metadata": {
        "id": "7d36d7a9-249f-4ea3-aaa9-02c0dd26e21e"
      },
      "outputs": [],
      "source": [
        ""
      ]
    }
  ],
  "metadata": {
    "kernelspec": {
      "display_name": "Python 3 (ipykernel)",
      "language": "python",
      "name": "python3"
    },
    "language_info": {
      "codemirror_mode": {
        "name": "ipython",
        "version": 3
      },
      "file_extension": ".py",
      "mimetype": "text/x-python",
      "name": "python",
      "nbconvert_exporter": "python",
      "pygments_lexer": "ipython3",
      "version": "3.9.7"
    },
    "colab": {
      "name": "1-read_data.ipynb",
      "provenance": [],
      "include_colab_link": true
    }
  },
  "nbformat": 4,
  "nbformat_minor": 5
}