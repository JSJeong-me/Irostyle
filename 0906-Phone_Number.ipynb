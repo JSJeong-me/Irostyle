{
 "cells": [
  {
   "cell_type": "code",
   "execution_count": 1,
   "id": "3798e199-7069-49f0-aae6-cc8e9d77072c",
   "metadata": {},
   "outputs": [],
   "source": [
    "# !pip install xlrd"
   ]
  },
  {
   "cell_type": "code",
   "execution_count": 2,
   "id": "49f1e9cf-1635-49ff-b681-611d02bd2e42",
   "metadata": {},
   "outputs": [],
   "source": [
    "import pandas as pd\n",
    "import re"
   ]
  },
  {
   "cell_type": "code",
   "execution_count": 3,
   "id": "a0682f40-556a-469a-910d-544c9bf5c5ed",
   "metadata": {},
   "outputs": [],
   "source": [
    "df = pd.read_excel('order-2.xlsx', sheet_name=1)"
   ]
  },
  {
   "cell_type": "code",
   "execution_count": 4,
   "id": "629771c7-3797-4396-935d-5587b139c751",
   "metadata": {},
   "outputs": [],
   "source": [
    "p='\\d{3}s?-?\\d{4}\\s?-?\\d{4}'"
   ]
  },
  {
   "cell_type": "code",
   "execution_count": 5,
   "id": "814acf98-697c-45f6-ae1f-67754cf6ad1c",
   "metadata": {},
   "outputs": [],
   "source": [
    "phone_num = []"
   ]
  },
  {
   "cell_type": "code",
   "execution_count": 6,
   "id": "9e318160-faa7-488c-ab32-68dbeb4b69dc",
   "metadata": {},
   "outputs": [
    {
     "name": "stdout",
     "output_type": "stream",
     "text": [
      "<re.Match object; span=(0, 13), match='010-2171-3740'>\n",
      "<re.Match object; span=(0, 13), match='010-2171-3740'>\n",
      "<re.Match object; span=(0, 13), match='010-2171-3740'>\n",
      "<re.Match object; span=(0, 13), match='010-2171-3740'>\n"
     ]
    }
   ],
   "source": [
    "for index, row in df.iterrows():\n",
    "    series_to_list = df.iloc[index].tolist()\n",
    "    for i in series_to_list:\n",
    "        # print(i)\n",
    "        if type(i) is str:\n",
    "            m = re.match(pattern = p, string=i)\n",
    "            if m:\n",
    "                phone_num.append(i)\n",
    "                print(m)"
   ]
  },
  {
   "cell_type": "code",
   "execution_count": 7,
   "id": "0cb111c0-113a-4c12-b2bf-4606c53bfa07",
   "metadata": {},
   "outputs": [
    {
     "data": {
      "text/plain": [
       "['010-2171-3740', '010-2171-3740', '010-2171-3740', '010-2171-3740']"
      ]
     },
     "execution_count": 7,
     "metadata": {},
     "output_type": "execute_result"
    }
   ],
   "source": [
    "phone_num"
   ]
  },
  {
   "cell_type": "code",
   "execution_count": 8,
   "id": "fde1b42a-2e1e-4d80-bc46-b54367b6da69",
   "metadata": {},
   "outputs": [],
   "source": [
    "phone_num = list(set(phone_num))"
   ]
  },
  {
   "cell_type": "code",
   "execution_count": 9,
   "id": "1631ea08-2e43-4b47-b23c-7c12bdf3901c",
   "metadata": {},
   "outputs": [
    {
     "data": {
      "text/plain": [
       "['010-2171-3740']"
      ]
     },
     "execution_count": 9,
     "metadata": {},
     "output_type": "execute_result"
    }
   ],
   "source": [
    "phone_num"
   ]
  },
  {
   "cell_type": "code",
   "execution_count": null,
   "id": "b57c1d69-4e20-4ed2-8c1b-d8f2b29f17a3",
   "metadata": {},
   "outputs": [],
   "source": []
  }
 ],
 "metadata": {
  "kernelspec": {
   "display_name": "Python 3 (ipykernel)",
   "language": "python",
   "name": "python3"
  },
  "language_info": {
   "codemirror_mode": {
    "name": "ipython",
    "version": 3
   },
   "file_extension": ".py",
   "mimetype": "text/x-python",
   "name": "python",
   "nbconvert_exporter": "python",
   "pygments_lexer": "ipython3",
   "version": "3.9.7"
  }
 },
 "nbformat": 4,
 "nbformat_minor": 5
}
