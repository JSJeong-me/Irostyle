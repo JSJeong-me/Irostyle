{
 "cells": [
  {
   "cell_type": "code",
   "execution_count": 1,
   "id": "df0779c3-90b2-4a7d-a2d8-92c47acdb66c",
   "metadata": {},
   "outputs": [],
   "source": [
    "import os"
   ]
  },
  {
   "cell_type": "code",
   "execution_count": 2,
   "id": "1700ceaf-a349-4a8f-b995-e6e191649c13",
   "metadata": {},
   "outputs": [],
   "source": [
    "import pandas as pd"
   ]
  },
  {
   "cell_type": "code",
   "execution_count": 3,
   "id": "5c0165e1-4b2c-4a73-b88e-73a85d7b9f0e",
   "metadata": {},
   "outputs": [
    {
     "name": "stdout",
     "output_type": "stream",
     "text": [
      "C:\\Users\\oakyo\\Documents\\ai-2022\\Iro\n"
     ]
    }
   ],
   "source": [
    "!cd"
   ]
  },
  {
   "cell_type": "code",
   "execution_count": 4,
   "id": "b390c2e6-5c34-4bf6-b8a7-f38139b3a4e7",
   "metadata": {},
   "outputs": [],
   "source": [
    "dir_path = r'C:\\\\Users\\\\oakyo\\\\Documents\\\\ai-2022\\\\Iro\\\\footdata'"
   ]
  },
  {
   "cell_type": "code",
   "execution_count": null,
   "id": "97d91939-d6ab-4877-84df-cd99bef8fb0d",
   "metadata": {},
   "outputs": [],
   "source": []
  },
  {
   "cell_type": "code",
   "execution_count": 5,
   "id": "33d3b863-ec4e-4b9c-9cf2-7c0ae8289f74",
   "metadata": {},
   "outputs": [],
   "source": [
    "# list to store files\n",
    "res = []"
   ]
  },
  {
   "cell_type": "code",
   "execution_count": 6,
   "id": "8cb48139-082a-4b43-9f85-9a9dbd012171",
   "metadata": {},
   "outputs": [],
   "source": [
    "entries = os.listdir(dir_path)"
   ]
  },
  {
   "cell_type": "code",
   "execution_count": 7,
   "id": "b3dfd4ed-514f-47fb-a8d2-55139facfddc",
   "metadata": {},
   "outputs": [
    {
     "data": {
      "text/plain": [
       "list"
      ]
     },
     "execution_count": 7,
     "metadata": {},
     "output_type": "execute_result"
    }
   ],
   "source": [
    "type(entries)"
   ]
  },
  {
   "cell_type": "code",
   "execution_count": 8,
   "id": "642ea853-8bba-4843-b4ce-2234f1e7ac38",
   "metadata": {},
   "outputs": [
    {
     "data": {
      "text/plain": [
       "2823"
      ]
     },
     "execution_count": 8,
     "metadata": {},
     "output_type": "execute_result"
    }
   ],
   "source": [
    "len(entries)"
   ]
  },
  {
   "cell_type": "code",
   "execution_count": 9,
   "id": "dad8a492-46dc-4c5f-b59d-fbfb613b1000",
   "metadata": {},
   "outputs": [
    {
     "data": {
      "text/plain": [
       "'01020010865_20200129163821'"
      ]
     },
     "execution_count": 9,
     "metadata": {},
     "output_type": "execute_result"
    }
   ],
   "source": [
    "entries[0]"
   ]
  },
  {
   "cell_type": "code",
   "execution_count": 10,
   "id": "16a141c1-d377-43d0-b9f6-c7a9fe66159f",
   "metadata": {},
   "outputs": [
    {
     "data": {
      "text/plain": [
       "'_20211222164836'"
      ]
     },
     "execution_count": 10,
     "metadata": {},
     "output_type": "execute_result"
    }
   ],
   "source": [
    "entries[-1]"
   ]
  },
  {
   "cell_type": "code",
   "execution_count": 11,
   "id": "67a4932b-f22a-4eb3-980c-eb80efec1989",
   "metadata": {},
   "outputs": [],
   "source": [
    "file_name = '{1}\\\\\\{0}\\\\\\{0}.json'.format(entries[0], dir_path)"
   ]
  },
  {
   "cell_type": "code",
   "execution_count": 12,
   "id": "5646cb7f-2f5a-4dae-bb18-b445ed1728b3",
   "metadata": {},
   "outputs": [
    {
     "name": "stdout",
     "output_type": "stream",
     "text": [
      "C:\\\\Users\\\\oakyo\\\\Documents\\\\ai-2022\\\\Iro\\\\footdata\\\\01020010865_20200129163821\\\\01020010865_20200129163821.json\n"
     ]
    }
   ],
   "source": [
    "print(file_name)"
   ]
  },
  {
   "cell_type": "code",
   "execution_count": 13,
   "id": "fe26b856-cca7-480d-89b8-a07f22803ce8",
   "metadata": {},
   "outputs": [],
   "source": [
    "df=pd.read_json(file_name)"
   ]
  },
  {
   "cell_type": "code",
   "execution_count": 14,
   "id": "5d57ef7d-7e64-4f4a-b66f-e98780604698",
   "metadata": {},
   "outputs": [
    {
     "data": {
      "text/plain": [
       "foot_length                    230.6370\n",
       "foot_width                      90.9976\n",
       "ball_distance                   92.6401\n",
       "ball_height                     33.4975\n",
       "ball_girth                     221.4540\n",
       "instep_height                   52.2154\n",
       "instep_girth                   221.2510\n",
       "big_toe_height                  18.3793\n",
       "heel_height                     18.8871\n",
       "heel_width                      55.5458\n",
       "inner_ankle_bone_height         74.7077\n",
       "outer_ankle_bone_height         63.5960\n",
       "ankle_height                    65.3289\n",
       "ankle_hor_girth                234.8910\n",
       "ankle_ver_girth                230.1420\n",
       "ankle_length                    91.2780\n",
       "ankle_width                     62.9006\n",
       "heel_to_inner_ball_distance    172.1650\n",
       "heel_to_outer_ball_distance    159.2710\n",
       "heel_to_ankle_hor_distance     102.6120\n",
       "heel_to_ankle_girth            294.1720\n",
       "heel_to_instep_girth           327.1870\n",
       "big_toe_angle                    0.0000\n",
       "arch_height                     13.4017\n",
       "Name: footR, dtype: float64"
      ]
     },
     "execution_count": 14,
     "metadata": {},
     "output_type": "execute_result"
    }
   ],
   "source": [
    "df.footR"
   ]
  },
  {
   "cell_type": "code",
   "execution_count": 15,
   "id": "6875d60f-6e0c-4be4-9885-85d83f0ba87b",
   "metadata": {},
   "outputs": [
    {
     "data": {
      "text/plain": [
       "230.637"
      ]
     },
     "execution_count": 15,
     "metadata": {},
     "output_type": "execute_result"
    }
   ],
   "source": [
    "df.footR.foot_length"
   ]
  },
  {
   "cell_type": "code",
   "execution_count": 16,
   "id": "eff32dce-6638-4ebc-a61b-bbba2431b479",
   "metadata": {},
   "outputs": [
    {
     "data": {
      "text/plain": [
       "foot_length                    231.11700\n",
       "foot_width                      91.64620\n",
       "ball_distance                   93.83600\n",
       "ball_height                     34.60600\n",
       "ball_girth                     226.75800\n",
       "instep_height                   52.23830\n",
       "instep_girth                   218.61900\n",
       "big_toe_height                  19.12860\n",
       "heel_height                     20.14910\n",
       "heel_width                      55.13300\n",
       "inner_ankle_bone_height         74.40000\n",
       "outer_ankle_bone_height         59.88970\n",
       "ankle_height                    65.30600\n",
       "ankle_hor_girth                231.26600\n",
       "ankle_ver_girth                225.72000\n",
       "ankle_length                    90.89360\n",
       "ankle_width                     62.15740\n",
       "heel_to_inner_ball_distance    173.06700\n",
       "heel_to_outer_ball_distance    157.76000\n",
       "heel_to_ankle_hor_distance     101.91000\n",
       "heel_to_ankle_girth            291.37000\n",
       "heel_to_instep_girth           325.85400\n",
       "big_toe_angle                    1.59114\n",
       "arch_height                     15.15580\n",
       "Name: footL, dtype: float64"
      ]
     },
     "execution_count": 16,
     "metadata": {},
     "output_type": "execute_result"
    }
   ],
   "source": [
    "df.footL"
   ]
  },
  {
   "cell_type": "code",
   "execution_count": null,
   "id": "e92f81c7-96c3-44eb-89a2-4c871bf31c64",
   "metadata": {},
   "outputs": [],
   "source": []
  },
  {
   "cell_type": "code",
   "execution_count": 17,
   "id": "bfec7ba1-1dcd-49ee-9056-4ffc9afd13b0",
   "metadata": {},
   "outputs": [],
   "source": [
    "col_level_1 = df.footL.index.tolist()"
   ]
  },
  {
   "cell_type": "code",
   "execution_count": 18,
   "id": "8b2392ce-8043-42e9-a87f-62c398e17aa2",
   "metadata": {},
   "outputs": [
    {
     "data": {
      "text/plain": [
       "['foot_length',\n",
       " 'foot_width',\n",
       " 'ball_distance',\n",
       " 'ball_height',\n",
       " 'ball_girth',\n",
       " 'instep_height',\n",
       " 'instep_girth',\n",
       " 'big_toe_height',\n",
       " 'heel_height',\n",
       " 'heel_width',\n",
       " 'inner_ankle_bone_height',\n",
       " 'outer_ankle_bone_height',\n",
       " 'ankle_height',\n",
       " 'ankle_hor_girth',\n",
       " 'ankle_ver_girth',\n",
       " 'ankle_length',\n",
       " 'ankle_width',\n",
       " 'heel_to_inner_ball_distance',\n",
       " 'heel_to_outer_ball_distance',\n",
       " 'heel_to_ankle_hor_distance',\n",
       " 'heel_to_ankle_girth',\n",
       " 'heel_to_instep_girth',\n",
       " 'big_toe_angle',\n",
       " 'arch_height']"
      ]
     },
     "execution_count": 18,
     "metadata": {},
     "output_type": "execute_result"
    }
   ],
   "source": [
    "col_level_1"
   ]
  },
  {
   "cell_type": "code",
   "execution_count": 19,
   "id": "0c6290e1-03a8-4c9c-acd3-a8b560556483",
   "metadata": {},
   "outputs": [],
   "source": [
    "level_0 = ['footL', 'footR']\n",
    "level_1 = col_level_1"
   ]
  },
  {
   "cell_type": "code",
   "execution_count": 20,
   "id": "e90d40ab-2f7b-46b0-bd76-031c43f0b328",
   "metadata": {},
   "outputs": [],
   "source": [
    "idx = pd.MultiIndex.from_product( [level_0, level_1] )"
   ]
  },
  {
   "cell_type": "code",
   "execution_count": 21,
   "id": "4fb3de21-6e79-41c2-8f41-e3ae05a68fa3",
   "metadata": {},
   "outputs": [
    {
     "name": "stdout",
     "output_type": "stream",
     "text": [
      "MultiIndex([('footL',                 'foot_length'),\n",
      "            ('footL',                  'foot_width'),\n",
      "            ('footL',               'ball_distance'),\n",
      "            ('footL',                 'ball_height'),\n",
      "            ('footL',                  'ball_girth'),\n",
      "            ('footL',               'instep_height'),\n",
      "            ('footL',                'instep_girth'),\n",
      "            ('footL',              'big_toe_height'),\n",
      "            ('footL',                 'heel_height'),\n",
      "            ('footL',                  'heel_width'),\n",
      "            ('footL',     'inner_ankle_bone_height'),\n",
      "            ('footL',     'outer_ankle_bone_height'),\n",
      "            ('footL',                'ankle_height'),\n",
      "            ('footL',             'ankle_hor_girth'),\n",
      "            ('footL',             'ankle_ver_girth'),\n",
      "            ('footL',                'ankle_length'),\n",
      "            ('footL',                 'ankle_width'),\n",
      "            ('footL', 'heel_to_inner_ball_distance'),\n",
      "            ('footL', 'heel_to_outer_ball_distance'),\n",
      "            ('footL',  'heel_to_ankle_hor_distance'),\n",
      "            ('footL',         'heel_to_ankle_girth'),\n",
      "            ('footL',        'heel_to_instep_girth'),\n",
      "            ('footL',               'big_toe_angle'),\n",
      "            ('footL',                 'arch_height'),\n",
      "            ('footR',                 'foot_length'),\n",
      "            ('footR',                  'foot_width'),\n",
      "            ('footR',               'ball_distance'),\n",
      "            ('footR',                 'ball_height'),\n",
      "            ('footR',                  'ball_girth'),\n",
      "            ('footR',               'instep_height'),\n",
      "            ('footR',                'instep_girth'),\n",
      "            ('footR',              'big_toe_height'),\n",
      "            ('footR',                 'heel_height'),\n",
      "            ('footR',                  'heel_width'),\n",
      "            ('footR',     'inner_ankle_bone_height'),\n",
      "            ('footR',     'outer_ankle_bone_height'),\n",
      "            ('footR',                'ankle_height'),\n",
      "            ('footR',             'ankle_hor_girth'),\n",
      "            ('footR',             'ankle_ver_girth'),\n",
      "            ('footR',                'ankle_length'),\n",
      "            ('footR',                 'ankle_width'),\n",
      "            ('footR', 'heel_to_inner_ball_distance'),\n",
      "            ('footR', 'heel_to_outer_ball_distance'),\n",
      "            ('footR',  'heel_to_ankle_hor_distance'),\n",
      "            ('footR',         'heel_to_ankle_girth'),\n",
      "            ('footR',        'heel_to_instep_girth'),\n",
      "            ('footR',               'big_toe_angle'),\n",
      "            ('footR',                 'arch_height')],\n",
      "           )\n"
     ]
    }
   ],
   "source": [
    "print(idx)"
   ]
  },
  {
   "cell_type": "code",
   "execution_count": 22,
   "id": "044bf702-a3e5-4a09-b290-88ebed83a835",
   "metadata": {},
   "outputs": [
    {
     "name": "stdout",
     "output_type": "stream",
     "text": [
      "Index(['foot_length', 'foot_width', 'ball_distance', 'ball_height',\n",
      "       'ball_girth', 'instep_height', 'instep_girth', 'big_toe_height',\n",
      "       'heel_height', 'heel_width', 'inner_ankle_bone_height',\n",
      "       'outer_ankle_bone_height', 'ankle_height', 'ankle_hor_girth',\n",
      "       'ankle_ver_girth', 'ankle_length', 'ankle_width',\n",
      "       'heel_to_inner_ball_distance', 'heel_to_outer_ball_distance',\n",
      "       'heel_to_ankle_hor_distance', 'heel_to_ankle_girth',\n",
      "       'heel_to_instep_girth', 'big_toe_angle', 'arch_height', 'foot_length',\n",
      "       'foot_width', 'ball_distance', 'ball_height', 'ball_girth',\n",
      "       'instep_height', 'instep_girth', 'big_toe_height', 'heel_height',\n",
      "       'heel_width', 'inner_ankle_bone_height', 'outer_ankle_bone_height',\n",
      "       'ankle_height', 'ankle_hor_girth', 'ankle_ver_girth', 'ankle_length',\n",
      "       'ankle_width', 'heel_to_inner_ball_distance',\n",
      "       'heel_to_outer_ball_distance', 'heel_to_ankle_hor_distance',\n",
      "       'heel_to_ankle_girth', 'heel_to_instep_girth', 'big_toe_angle',\n",
      "       'arch_height'],\n",
      "      dtype='object')\n"
     ]
    }
   ],
   "source": [
    "print(idx.get_level_values(1))"
   ]
  },
  {
   "cell_type": "code",
   "execution_count": 23,
   "id": "033c9ff4-1a0d-43af-815b-a9c7afe10409",
   "metadata": {},
   "outputs": [],
   "source": [
    "columns = pd.MultiIndex.from_product( [level_0, level_1] )"
   ]
  },
  {
   "cell_type": "code",
   "execution_count": 24,
   "id": "52921419-c868-4e9d-907d-8e454f94d867",
   "metadata": {},
   "outputs": [],
   "source": [
    "df_multihead = pd.DataFrame(df, index=entries, columns=columns)"
   ]
  },
  {
   "cell_type": "code",
   "execution_count": 25,
   "id": "3aa5af46-a736-4dba-adc6-c2f8bd16b9fe",
   "metadata": {},
   "outputs": [],
   "source": [
    "#df_multihead"
   ]
  },
  {
   "cell_type": "code",
   "execution_count": 26,
   "id": "43ae3179-7e37-44e5-87bb-dbc986881da0",
   "metadata": {},
   "outputs": [
    {
     "data": {
      "text/plain": [
       "231.117"
      ]
     },
     "execution_count": 26,
     "metadata": {},
     "output_type": "execute_result"
    }
   ],
   "source": [
    "df.footL.foot_length"
   ]
  },
  {
   "cell_type": "code",
   "execution_count": 27,
   "id": "36aa69c9-9dfa-4f7c-9670-f70117fc81a2",
   "metadata": {},
   "outputs": [
    {
     "data": {
      "text/plain": [
       "231.117"
      ]
     },
     "execution_count": 27,
     "metadata": {},
     "output_type": "execute_result"
    }
   ],
   "source": [
    "df.footL[0]"
   ]
  },
  {
   "cell_type": "code",
   "execution_count": 28,
   "id": "16cd5965-df00-4028-b8e8-2e5d4d2bfc49",
   "metadata": {},
   "outputs": [
    {
     "name": "stdout",
     "output_type": "stream",
     "text": [
      "C:\\\\Users\\\\oakyo\\\\Documents\\\\ai-2022\\\\Iro\\\\footdata\\\\01020010865_20200129163821\\\\01020010865_20200129163821.json\n"
     ]
    }
   ],
   "source": [
    "print(file_name)"
   ]
  },
  {
   "cell_type": "code",
   "execution_count": 29,
   "id": "2c41e948-2525-469b-bf18-6472f10a819d",
   "metadata": {},
   "outputs": [
    {
     "data": {
      "text/plain": [
       "MultiIndex([('footL',                 'foot_length'),\n",
       "            ('footL',                  'foot_width'),\n",
       "            ('footL',               'ball_distance'),\n",
       "            ('footL',                 'ball_height'),\n",
       "            ('footL',                  'ball_girth'),\n",
       "            ('footL',               'instep_height'),\n",
       "            ('footL',                'instep_girth'),\n",
       "            ('footL',              'big_toe_height'),\n",
       "            ('footL',                 'heel_height'),\n",
       "            ('footL',                  'heel_width'),\n",
       "            ('footL',     'inner_ankle_bone_height'),\n",
       "            ('footL',     'outer_ankle_bone_height'),\n",
       "            ('footL',                'ankle_height'),\n",
       "            ('footL',             'ankle_hor_girth'),\n",
       "            ('footL',             'ankle_ver_girth'),\n",
       "            ('footL',                'ankle_length'),\n",
       "            ('footL',                 'ankle_width'),\n",
       "            ('footL', 'heel_to_inner_ball_distance'),\n",
       "            ('footL', 'heel_to_outer_ball_distance'),\n",
       "            ('footL',  'heel_to_ankle_hor_distance'),\n",
       "            ('footL',         'heel_to_ankle_girth'),\n",
       "            ('footL',        'heel_to_instep_girth'),\n",
       "            ('footL',               'big_toe_angle'),\n",
       "            ('footL',                 'arch_height'),\n",
       "            ('footR',                 'foot_length'),\n",
       "            ('footR',                  'foot_width'),\n",
       "            ('footR',               'ball_distance'),\n",
       "            ('footR',                 'ball_height'),\n",
       "            ('footR',                  'ball_girth'),\n",
       "            ('footR',               'instep_height'),\n",
       "            ('footR',                'instep_girth'),\n",
       "            ('footR',              'big_toe_height'),\n",
       "            ('footR',                 'heel_height'),\n",
       "            ('footR',                  'heel_width'),\n",
       "            ('footR',     'inner_ankle_bone_height'),\n",
       "            ('footR',     'outer_ankle_bone_height'),\n",
       "            ('footR',                'ankle_height'),\n",
       "            ('footR',             'ankle_hor_girth'),\n",
       "            ('footR',             'ankle_ver_girth'),\n",
       "            ('footR',                'ankle_length'),\n",
       "            ('footR',                 'ankle_width'),\n",
       "            ('footR', 'heel_to_inner_ball_distance'),\n",
       "            ('footR', 'heel_to_outer_ball_distance'),\n",
       "            ('footR',  'heel_to_ankle_hor_distance'),\n",
       "            ('footR',         'heel_to_ankle_girth'),\n",
       "            ('footR',        'heel_to_instep_girth'),\n",
       "            ('footR',               'big_toe_angle'),\n",
       "            ('footR',                 'arch_height')],\n",
       "           )"
      ]
     },
     "execution_count": 29,
     "metadata": {},
     "output_type": "execute_result"
    }
   ],
   "source": [
    "df_multihead.columns"
   ]
  },
  {
   "cell_type": "code",
   "execution_count": 30,
   "id": "8bf977a9-d9d9-4cfc-bd96-8ca7658ce192",
   "metadata": {},
   "outputs": [
    {
     "data": {
      "text/plain": [
       "Index(['01020010865_20200129163821', '01020037730_20210102143520',\n",
       "       '01020038856_20200202161106', '01020055078_20200501130123',\n",
       "       '01020095930_20220525191528', '01020096158_20200905112704',\n",
       "       '01020099673_20220212163240', '01020115353_20220223160614',\n",
       "       '01020123264_20210912164839', '01020194514_20200802150841',\n",
       "       ...\n",
       "       '101072428905_20220601183043', '101073368765_20220505180016',\n",
       "       '101082438510_20220508142844', '101088096732_20220604140008',\n",
       "       '101099630531_20220703174627', '2030_20211026232207', '_20200815184035',\n",
       "       '_20211211151440', '_20211217230951', '_20211222164836'],\n",
       "      dtype='object', length=2823)"
      ]
     },
     "execution_count": 30,
     "metadata": {},
     "output_type": "execute_result"
    }
   ],
   "source": [
    "df_multihead.index"
   ]
  },
  {
   "cell_type": "code",
   "execution_count": 31,
   "id": "bbdf6dd2-63ca-4f5a-ac46-9b964c850785",
   "metadata": {},
   "outputs": [
    {
     "data": {
      "text/plain": [
       "(2823, 48)"
      ]
     },
     "execution_count": 31,
     "metadata": {},
     "output_type": "execute_result"
    }
   ],
   "source": [
    "df_multihead.shape"
   ]
  },
  {
   "cell_type": "code",
   "execution_count": null,
   "id": "ba0e0c91-55c0-49c2-93e5-1ac28df1ec5d",
   "metadata": {},
   "outputs": [],
   "source": []
  },
  {
   "cell_type": "code",
   "execution_count": 32,
   "id": "3452c560-0317-48ec-849b-e9c4b6c0ea66",
   "metadata": {},
   "outputs": [],
   "source": [
    "df_multihead.loc[entries[0], ('footL', 'foot_length')] = df.footL.foot_length"
   ]
  },
  {
   "cell_type": "code",
   "execution_count": 33,
   "id": "dce4881e-9996-4d8d-87ad-6af0ea29bd3f",
   "metadata": {},
   "outputs": [
    {
     "data": {
      "text/plain": [
       "231.117"
      ]
     },
     "execution_count": 33,
     "metadata": {},
     "output_type": "execute_result"
    }
   ],
   "source": [
    "df_multihead.loc[entries[0], ('footL', 'foot_length')]"
   ]
  },
  {
   "cell_type": "code",
   "execution_count": 34,
   "id": "10d8265d-82d6-4362-9249-e1a6c31cb487",
   "metadata": {},
   "outputs": [],
   "source": [
    "#df_multihead.iloc[0]"
   ]
  },
  {
   "cell_type": "code",
   "execution_count": 35,
   "id": "f39488d0-a98e-4e33-983e-9c04e16409a5",
   "metadata": {},
   "outputs": [
    {
     "data": {
      "text/plain": [
       "231.117"
      ]
     },
     "execution_count": 35,
     "metadata": {},
     "output_type": "execute_result"
    }
   ],
   "source": [
    "df_multihead.iloc[0, 0]"
   ]
  },
  {
   "cell_type": "code",
   "execution_count": 36,
   "id": "5bdb93fb-83cc-4059-9149-e0d69298371a",
   "metadata": {},
   "outputs": [],
   "source": [
    "#df_multihead.iloc[-1]"
   ]
  },
  {
   "cell_type": "code",
   "execution_count": null,
   "id": "b9ebf13e-fd93-42ab-bc29-e62ec6edb142",
   "metadata": {},
   "outputs": [],
   "source": []
  },
  {
   "cell_type": "code",
   "execution_count": 37,
   "id": "c5adb086-3e8d-4777-ba19-0517c97459e2",
   "metadata": {},
   "outputs": [
    {
     "data": {
      "text/plain": [
       "(24, 7)"
      ]
     },
     "execution_count": 37,
     "metadata": {},
     "output_type": "execute_result"
    }
   ],
   "source": [
    "df.shape"
   ]
  },
  {
   "cell_type": "code",
   "execution_count": 38,
   "id": "8513e2de-a69f-4c5b-a077-619c9850805e",
   "metadata": {},
   "outputs": [
    {
     "data": {
      "text/plain": [
       "pandas.core.series.Series"
      ]
     },
     "execution_count": 38,
     "metadata": {},
     "output_type": "execute_result"
    }
   ],
   "source": [
    "type(df.footR)"
   ]
  },
  {
   "cell_type": "code",
   "execution_count": 39,
   "id": "3ad8964d-3956-496e-9774-ec81553dab19",
   "metadata": {},
   "outputs": [
    {
     "data": {
      "text/plain": [
       "230.637"
      ]
     },
     "execution_count": 39,
     "metadata": {},
     "output_type": "execute_result"
    }
   ],
   "source": [
    "df.footR[0]"
   ]
  },
  {
   "cell_type": "code",
   "execution_count": 40,
   "id": "bec3ed3f-1d04-4c69-ad3a-852ae831cb23",
   "metadata": {},
   "outputs": [],
   "source": [
    "#df_multihead.iloc[0, 0] = df.footR[0]"
   ]
  },
  {
   "cell_type": "code",
   "execution_count": 41,
   "id": "03976032-7595-400a-9141-cf755111500c",
   "metadata": {},
   "outputs": [],
   "source": [
    "#df_multihead.iloc[0, 0]"
   ]
  },
  {
   "cell_type": "code",
   "execution_count": 42,
   "id": "fafee2d7-1d3e-4331-9679-8f78f72694fd",
   "metadata": {},
   "outputs": [],
   "source": [
    "#df_multihead.iloc[0, 1] = df.footR[1]"
   ]
  },
  {
   "cell_type": "code",
   "execution_count": 43,
   "id": "5ac48314-cea4-45ce-b4d6-0c41d5ff29bb",
   "metadata": {},
   "outputs": [],
   "source": [
    "#df_multihead.iloc[0, 1]"
   ]
  },
  {
   "cell_type": "code",
   "execution_count": null,
   "id": "04ae238a-fbe4-4d19-b508-70705f6dadc1",
   "metadata": {},
   "outputs": [],
   "source": []
  },
  {
   "cell_type": "code",
   "execution_count": 44,
   "id": "26ea67ca-63a4-4b7e-9378-5ee13d68d414",
   "metadata": {},
   "outputs": [
    {
     "data": {
      "text/plain": [
       "2823"
      ]
     },
     "execution_count": 44,
     "metadata": {},
     "output_type": "execute_result"
    }
   ],
   "source": [
    "len(entries)"
   ]
  },
  {
   "cell_type": "code",
   "execution_count": 45,
   "id": "f34c69d4-d71f-4d1f-9ad9-9601711783d6",
   "metadata": {},
   "outputs": [],
   "source": [
    "file_name = 'footdata\\\\\\{0}\\\\\\{0}.json'.format(entries[1])"
   ]
  },
  {
   "cell_type": "code",
   "execution_count": 46,
   "id": "d271dda0-94a0-4e97-ae93-d9656eaa1369",
   "metadata": {},
   "outputs": [
    {
     "name": "stdout",
     "output_type": "stream",
     "text": [
      "footdata\\\\01020037730_20210102143520\\\\01020037730_20210102143520.json\n"
     ]
    }
   ],
   "source": [
    "print(file_name)"
   ]
  },
  {
   "cell_type": "code",
   "execution_count": 47,
   "id": "0521e1a8-edab-4d17-ac5f-959ad95ab50e",
   "metadata": {},
   "outputs": [],
   "source": [
    "for i in range(len(entries)):\n",
    "    file_name = 'footdata\\\\\\{0}\\\\\\{0}.json'.format(entries[i])\n",
    "    df=pd.read_json(file_name)\n",
    "    df_multihead.iloc[i, 0:24] = df.footL[0:24]\n",
    "    df_multihead.iloc[i, 24:48] = df.footR[0:24]"
   ]
  },
  {
   "cell_type": "code",
   "execution_count": 48,
   "id": "d864be91-923c-4a2d-8a6a-c0c94d023c25",
   "metadata": {},
   "outputs": [],
   "source": [
    "df_multihead.to_excel('feets.xlsx')"
   ]
  },
  {
   "cell_type": "code",
   "execution_count": 50,
   "id": "3462bb31-176a-4b40-85f4-8b26acd228e3",
   "metadata": {},
   "outputs": [
    {
     "name": "stdout",
     "output_type": "stream",
     "text": [
      "C:\\Users\\oakyo\\Documents\\ai-2022\\Iro\n"
     ]
    }
   ],
   "source": [
    "!cd"
   ]
  },
  {
   "cell_type": "code",
   "execution_count": 44,
   "id": "37eaa473-a957-4349-9b20-998af3a44ab7",
   "metadata": {},
   "outputs": [],
   "source": [
    "#df_multihead.iloc[0, 0:24] = df.footL[0:24]"
   ]
  },
  {
   "cell_type": "code",
   "execution_count": 45,
   "id": "bd813e02-3dec-4255-b0d3-4bc4eee3f3a4",
   "metadata": {},
   "outputs": [],
   "source": [
    "#df_multihead.iloc[0, 24:48] = df.footR[0:24]"
   ]
  },
  {
   "cell_type": "code",
   "execution_count": 47,
   "id": "5284a915-1723-4eba-9f7c-7b6b7ce08abd",
   "metadata": {},
   "outputs": [
    {
     "data": {
      "text/plain": [
       "footL  foot_length                    231.11700\n",
       "       foot_width                      91.64620\n",
       "       ball_distance                   93.83600\n",
       "       ball_height                     34.60600\n",
       "       ball_girth                     226.75800\n",
       "       instep_height                   52.23830\n",
       "       instep_girth                   218.61900\n",
       "       big_toe_height                  19.12860\n",
       "       heel_height                     20.14910\n",
       "       heel_width                      55.13300\n",
       "       inner_ankle_bone_height         74.40000\n",
       "       outer_ankle_bone_height         59.88970\n",
       "       ankle_height                    65.30600\n",
       "       ankle_hor_girth                231.26600\n",
       "       ankle_ver_girth                225.72000\n",
       "       ankle_length                    90.89360\n",
       "       ankle_width                     62.15740\n",
       "       heel_to_inner_ball_distance    173.06700\n",
       "       heel_to_outer_ball_distance    157.76000\n",
       "       heel_to_ankle_hor_distance     101.91000\n",
       "       heel_to_ankle_girth            291.37000\n",
       "       heel_to_instep_girth           325.85400\n",
       "       big_toe_angle                    1.59114\n",
       "       arch_height                     15.15580\n",
       "footR  foot_length                          NaN\n",
       "       foot_width                           NaN\n",
       "       ball_distance                        NaN\n",
       "       ball_height                          NaN\n",
       "       ball_girth                           NaN\n",
       "       instep_height                        NaN\n",
       "       instep_girth                         NaN\n",
       "       big_toe_height                       NaN\n",
       "       heel_height                          NaN\n",
       "       heel_width                           NaN\n",
       "       inner_ankle_bone_height              NaN\n",
       "       outer_ankle_bone_height              NaN\n",
       "       ankle_height                         NaN\n",
       "       ankle_hor_girth                      NaN\n",
       "       ankle_ver_girth                      NaN\n",
       "       ankle_length                         NaN\n",
       "       ankle_width                          NaN\n",
       "       heel_to_inner_ball_distance          NaN\n",
       "       heel_to_outer_ball_distance          NaN\n",
       "       heel_to_ankle_hor_distance           NaN\n",
       "       heel_to_ankle_girth                  NaN\n",
       "       heel_to_instep_girth                 NaN\n",
       "       big_toe_angle                        NaN\n",
       "       arch_height                          NaN\n",
       "Name: _20211222164836, dtype: float64"
      ]
     },
     "execution_count": 47,
     "metadata": {},
     "output_type": "execute_result"
    }
   ],
   "source": [
    "df_multihead.iloc[-1]"
   ]
  },
  {
   "cell_type": "code",
   "execution_count": null,
   "id": "8dd4d850-71bc-4b5d-a6df-ef1a03089b62",
   "metadata": {},
   "outputs": [],
   "source": []
  },
  {
   "cell_type": "code",
   "execution_count": 6,
   "id": "40a351a6-a5af-4f4f-939b-2246c1b59877",
   "metadata": {},
   "outputs": [],
   "source": []
  },
  {
   "cell_type": "code",
   "execution_count": 6,
   "id": "a3ea989e-e068-4d49-a605-aa3e733a17ea",
   "metadata": {},
   "outputs": [],
   "source": []
  },
  {
   "cell_type": "code",
   "execution_count": 6,
   "id": "57788f6c-b122-469e-a221-f29f3a23e789",
   "metadata": {},
   "outputs": [],
   "source": []
  },
  {
   "cell_type": "code",
   "execution_count": 6,
   "id": "094ded4b-6941-4b52-9c0b-3547c725b8c6",
   "metadata": {},
   "outputs": [],
   "source": []
  },
  {
   "cell_type": "code",
   "execution_count": 6,
   "id": "bb4f069d-2403-40c1-a487-c2c861668ebb",
   "metadata": {},
   "outputs": [],
   "source": [
    "# Iterate directory\n",
    "for path in os.listdir(dir_path):\n",
    "    # check if current path is a file\n",
    "    if os.path.isfile(os.path.join(dir_path, path)):\n",
    "        res.append(path)\n",
    "#print(res)"
   ]
  },
  {
   "cell_type": "code",
   "execution_count": null,
   "id": "7d36d7a9-249f-4ea3-aaa9-02c0dd26e21e",
   "metadata": {},
   "outputs": [],
   "source": []
  }
 ],
 "metadata": {
  "kernelspec": {
   "display_name": "Python 3 (ipykernel)",
   "language": "python",
   "name": "python3"
  },
  "language_info": {
   "codemirror_mode": {
    "name": "ipython",
    "version": 3
   },
   "file_extension": ".py",
   "mimetype": "text/x-python",
   "name": "python",
   "nbconvert_exporter": "python",
   "pygments_lexer": "ipython3",
   "version": "3.9.7"
  }
 },
 "nbformat": 4,
 "nbformat_minor": 5
}
