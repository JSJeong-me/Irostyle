{
  "nbformat": 4,
  "nbformat_minor": 0,
  "metadata": {
    "colab": {
      "name": "Untitled19.ipynb",
      "provenance": [],
      "authorship_tag": "ABX9TyNDcR/ZtU9riirTCjK+1kFB",
      "include_colab_link": true
    },
    "kernelspec": {
      "name": "python3",
      "display_name": "Python 3"
    },
    "language_info": {
      "name": "python"
    }
  },
  "cells": [
    {
      "cell_type": "markdown",
      "metadata": {
        "id": "view-in-github",
        "colab_type": "text"
      },
      "source": [
        "<a href=\"https://colab.research.google.com/github/JSJeong-me/Irostyle/blob/main/shoe/JHJ.ipynb\" target=\"_parent\"><img src=\"https://colab.research.google.com/assets/colab-badge.svg\" alt=\"Open In Colab\"/></a>"
      ]
    },
    {
      "cell_type": "code",
      "execution_count": 1,
      "metadata": {
        "id": "2E_v42-lr4An"
      },
      "outputs": [],
      "source": [
        "import pandas as pd\n",
        "\n",
        "df=pd.read_json('./_20220603105724.json')"
      ]
    },
    {
      "cell_type": "code",
      "source": [
        "print(\"DataFrame generated using JSON file:\")\n",
        "print(df)"
      ],
      "metadata": {
        "id": "4QYuAgRQsujF"
      },
      "execution_count": null,
      "outputs": []
    },
    {
      "cell_type": "code",
      "source": [
        "df.columns"
      ],
      "metadata": {
        "colab": {
          "base_uri": "https://localhost:8080/"
        },
        "id": "kocGRr3xvqzH",
        "outputId": "5daf666d-76f4-4809-b05d-94627aee0315"
      },
      "execution_count": 3,
      "outputs": [
        {
          "output_type": "execute_result",
          "data": {
            "text/plain": [
              "Index(['company_id', 'device_id', 'country_code', 'tel', 'date', 'footR',\n",
              "       'footL'],\n",
              "      dtype='object')"
            ]
          },
          "metadata": {},
          "execution_count": 3
        }
      ]
    },
    {
      "cell_type": "code",
      "source": [
        "df.footR"
      ],
      "metadata": {
        "colab": {
          "base_uri": "https://localhost:8080/"
        },
        "id": "WoWagBYnvsJs",
        "outputId": "2d6b6ba5-1c37-46f1-ec24-5efbb61675c4"
      },
      "execution_count": 4,
      "outputs": [
        {
          "output_type": "execute_result",
          "data": {
            "text/plain": [
              "foot_length                    217.36900\n",
              "foot_width                      83.08360\n",
              "ball_distance                   85.48310\n",
              "ball_height                     30.61710\n",
              "ball_girth                     207.37300\n",
              "instep_height                   46.63680\n",
              "instep_girth                   207.50500\n",
              "big_toe_height                  17.45370\n",
              "heel_height                     19.07780\n",
              "heel_width                      54.51420\n",
              "inner_ankle_bone_height         63.47240\n",
              "outer_ankle_bone_height         51.68230\n",
              "ankle_height                    61.05650\n",
              "ankle_hor_girth                222.85600\n",
              "ankle_ver_girth                222.65300\n",
              "ankle_length                    87.77200\n",
              "ankle_width                     57.81800\n",
              "heel_to_inner_ball_distance    163.74700\n",
              "heel_to_outer_ball_distance    144.70600\n",
              "heel_to_ankle_hor_distance      94.48860\n",
              "heel_to_ankle_girth            275.03400\n",
              "heel_to_instep_girth           308.33900\n",
              "big_toe_angle                    3.69139\n",
              "arch_height                      4.89851\n",
              "Name: footR, dtype: float64"
            ]
          },
          "metadata": {},
          "execution_count": 4
        }
      ]
    },
    {
      "cell_type": "code",
      "source": [
        "df.footR.foot_length"
      ],
      "metadata": {
        "colab": {
          "base_uri": "https://localhost:8080/"
        },
        "id": "p1e5NV4Hvv-_",
        "outputId": "6ece0137-eef6-4775-847b-1b20c65494fc"
      },
      "execution_count": 5,
      "outputs": [
        {
          "output_type": "execute_result",
          "data": {
            "text/plain": [
              "217.369"
            ]
          },
          "metadata": {},
          "execution_count": 5
        }
      ]
    },
    {
      "cell_type": "code",
      "source": [
        "df.footL.foot_length"
      ],
      "metadata": {
        "colab": {
          "base_uri": "https://localhost:8080/"
        },
        "id": "8vVRxxPDv5IX",
        "outputId": "e0188e40-f99f-4a83-90a6-11295d5a93a3"
      },
      "execution_count": 6,
      "outputs": [
        {
          "output_type": "execute_result",
          "data": {
            "text/plain": [
              "217.854"
            ]
          },
          "metadata": {},
          "execution_count": 6
        }
      ]
    }
  ]
}