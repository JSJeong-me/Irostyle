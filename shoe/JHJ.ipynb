{
  "nbformat": 4,
  "nbformat_minor": 0,
  "metadata": {
    "colab": {
      "name": "Untitled19.ipynb",
      "provenance": [],
      "authorship_tag": "ABX9TyN6F2Z06Yry2oTfYTVxiXo4",
      "include_colab_link": true
    },
    "kernelspec": {
      "name": "python3",
      "display_name": "Python 3"
    },
    "language_info": {
      "name": "python"
    }
  },
  "cells": [
    {
      "cell_type": "markdown",
      "metadata": {
        "id": "view-in-github",
        "colab_type": "text"
      },
      "source": [
        "<a href=\"https://colab.research.google.com/github/JSJeong-me/Irostyle/blob/main/shoe/JHJ.ipynb\" target=\"_parent\"><img src=\"https://colab.research.google.com/assets/colab-badge.svg\" alt=\"Open In Colab\"/></a>"
      ]
    },
    {
      "cell_type": "code",
      "execution_count": 1,
      "metadata": {
        "id": "2E_v42-lr4An"
      },
      "outputs": [],
      "source": [
        "import pandas as pd\n",
        "\n",
        "df=pd.read_json('./_20220603105724.json')"
      ]
    },
    {
      "cell_type": "code",
      "source": [
        "print(\"DataFrame generated using JSON file:\")\n",
        "print(df)"
      ],
      "metadata": {
        "colab": {
          "base_uri": "https://localhost:8080/"
        },
        "id": "4QYuAgRQsujF",
        "outputId": "5a4bc7f6-f9b3-4813-ea7e-70ad4a5fd15b"
      },
      "execution_count": 2,
      "outputs": [
        {
          "output_type": "stream",
          "name": "stdout",
          "text": [
            "DataFrame generated using JSON file:\n",
            "                            company_id   device_id  country_code tel  \\\n",
            "foot_length                    Yesfoot  Getta-0006            82       \n",
            "foot_width                     Yesfoot  Getta-0006            82       \n",
            "ball_distance                  Yesfoot  Getta-0006            82       \n",
            "ball_height                    Yesfoot  Getta-0006            82       \n",
            "ball_girth                     Yesfoot  Getta-0006            82       \n",
            "instep_height                  Yesfoot  Getta-0006            82       \n",
            "instep_girth                   Yesfoot  Getta-0006            82       \n",
            "big_toe_height                 Yesfoot  Getta-0006            82       \n",
            "heel_height                    Yesfoot  Getta-0006            82       \n",
            "heel_width                     Yesfoot  Getta-0006            82       \n",
            "inner_ankle_bone_height        Yesfoot  Getta-0006            82       \n",
            "outer_ankle_bone_height        Yesfoot  Getta-0006            82       \n",
            "ankle_height                   Yesfoot  Getta-0006            82       \n",
            "ankle_hor_girth                Yesfoot  Getta-0006            82       \n",
            "ankle_ver_girth                Yesfoot  Getta-0006            82       \n",
            "ankle_length                   Yesfoot  Getta-0006            82       \n",
            "ankle_width                    Yesfoot  Getta-0006            82       \n",
            "heel_to_inner_ball_distance    Yesfoot  Getta-0006            82       \n",
            "heel_to_outer_ball_distance    Yesfoot  Getta-0006            82       \n",
            "heel_to_ankle_hor_distance     Yesfoot  Getta-0006            82       \n",
            "heel_to_ankle_girth            Yesfoot  Getta-0006            82       \n",
            "heel_to_instep_girth           Yesfoot  Getta-0006            82       \n",
            "big_toe_angle                  Yesfoot  Getta-0006            82       \n",
            "arch_height                    Yesfoot  Getta-0006            82       \n",
            "\n",
            "                                                  date      footR      footL  \n",
            "foot_length                 1970-08-23 00:50:03.105724  217.36900  217.85400  \n",
            "foot_width                  1970-08-23 00:50:03.105724   83.08360   83.23360  \n",
            "ball_distance               1970-08-23 00:50:03.105724   85.48310   85.19830  \n",
            "ball_height                 1970-08-23 00:50:03.105724   30.61710   30.63490  \n",
            "ball_girth                  1970-08-23 00:50:03.105724  207.37300  206.70300  \n",
            "instep_height               1970-08-23 00:50:03.105724   46.63680   47.08310  \n",
            "instep_girth                1970-08-23 00:50:03.105724  207.50500  205.13400  \n",
            "big_toe_height              1970-08-23 00:50:03.105724   17.45370   17.89700  \n",
            "heel_height                 1970-08-23 00:50:03.105724   19.07780   16.76580  \n",
            "heel_width                  1970-08-23 00:50:03.105724   54.51420   54.65910  \n",
            "inner_ankle_bone_height     1970-08-23 00:50:03.105724   63.47240   62.98380  \n",
            "outer_ankle_bone_height     1970-08-23 00:50:03.105724   51.68230   56.16940  \n",
            "ankle_height                1970-08-23 00:50:03.105724   61.05650   60.91970  \n",
            "ankle_hor_girth             1970-08-23 00:50:03.105724  222.85600  220.64900  \n",
            "ankle_ver_girth             1970-08-23 00:50:03.105724  222.65300  219.33300  \n",
            "ankle_length                1970-08-23 00:50:03.105724   87.77200   86.93690  \n",
            "ankle_width                 1970-08-23 00:50:03.105724   57.81800   56.97870  \n",
            "heel_to_inner_ball_distance 1970-08-23 00:50:03.105724  163.74700  164.19500  \n",
            "heel_to_outer_ball_distance 1970-08-23 00:50:03.105724  144.70600  146.89600  \n",
            "heel_to_ankle_hor_distance  1970-08-23 00:50:03.105724   94.48860   94.86280  \n",
            "heel_to_ankle_girth         1970-08-23 00:50:03.105724  275.03400  276.55200  \n",
            "heel_to_instep_girth        1970-08-23 00:50:03.105724  308.33900  309.43000  \n",
            "big_toe_angle               1970-08-23 00:50:03.105724    3.69139    8.13010  \n",
            "arch_height                 1970-08-23 00:50:03.105724    4.89851    5.50545  \n"
          ]
        }
      ]
    }
  ]
}